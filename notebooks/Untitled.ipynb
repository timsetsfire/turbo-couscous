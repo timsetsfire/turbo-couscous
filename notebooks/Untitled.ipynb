{
 "cells": [
  {
   "cell_type": "code",
   "execution_count": 6,
   "metadata": {},
   "outputs": [
    {
     "data": {
      "text/plain": []
     },
     "metadata": {},
     "output_type": "display_data"
    }
   ],
   "source": [
    "classpath.addPath(\"../target/scala-2.11/adaboost_2.11-0.1-SNAPSHOT.jar\")"
   ]
  },
  {
   "cell_type": "code",
   "execution_count": 7,
   "metadata": {},
   "outputs": [
    {
     "name": "stdout",
     "output_type": "stream",
     "text": [
      "1 new artifact(s)"
     ]
    },
    {
     "name": "stderr",
     "output_type": "stream",
     "text": [
      "1 new artifacts in macro\r\n",
      "1 new artifacts in runtime\r\n"
     ]
    },
    {
     "name": "stdout",
     "output_type": "stream",
     "text": [
      "\r\n"
     ]
    },
    {
     "name": "stderr",
     "output_type": "stream",
     "text": [
      "1 new artifacts in compile\r\n"
     ]
    },
    {
     "data": {
      "text/plain": []
     },
     "metadata": {},
     "output_type": "display_data"
    }
   ],
   "source": [
    "classpath.add(\"log4j\" % \"log4j\" % \"1.2.14\")"
   ]
  },
  {
   "cell_type": "code",
   "execution_count": 8,
   "metadata": {},
   "outputs": [
    {
     "data": {
      "text/plain": [
       "\u001b[32mimport \u001b[36mcom.github.timsetsfire.classifier.weaklearner._\u001b[0m\n",
       "\u001b[32mimport \u001b[36mcom.github.timsetsfire.classifier._\u001b[0m"
      ]
     },
     "metadata": {},
     "output_type": "display_data"
    }
   ],
   "source": [
    "import com.github.timsetsfire.classifier.weaklearner._\n",
    "import com.github.timsetsfire.classifier._"
   ]
  },
  {
   "cell_type": "code",
   "execution_count": 9,
   "metadata": {
    "collapsed": true
   },
   "outputs": [
    {
     "data": {
      "text/plain": [
       "defined \u001b[32mfunction \u001b[36mList2Vec\u001b[0m\n",
       "\u001b[36mySrc\u001b[0m: \u001b[32mio\u001b[0m.\u001b[32mBufferedSource\u001b[0m = empty iterator\n",
       "\u001b[36my\u001b[0m: \u001b[32mList\u001b[0m[\u001b[32mDouble\u001b[0m] = \u001b[33mList\u001b[0m(\n",
       "  \u001b[32m0.0\u001b[0m,\n",
       "  \u001b[32m0.0\u001b[0m,\n",
       "  \u001b[32m0.0\u001b[0m,\n",
       "  \u001b[32m0.0\u001b[0m,\n",
       "  \u001b[32m0.0\u001b[0m,\n",
       "  \u001b[32m0.0\u001b[0m,\n",
       "  \u001b[32m0.0\u001b[0m,\n",
       "  \u001b[32m0.0\u001b[0m,\n",
       "  \u001b[32m0.0\u001b[0m,\n",
       "  \u001b[32m0.0\u001b[0m,\n",
       "  \u001b[32m0.0\u001b[0m,\n",
       "  \u001b[32m0.0\u001b[0m,\n",
       "  \u001b[32m0.0\u001b[0m,\n",
       "  \u001b[32m0.0\u001b[0m,\n",
       "  \u001b[32m0.0\u001b[0m,\n",
       "  \u001b[32m0.0\u001b[0m,\n",
       "  \u001b[32m0.0\u001b[0m,\n",
       "  \u001b[32m0.0\u001b[0m,\n",
       "  \u001b[32m0.0\u001b[0m,\n",
       "\u001b[33m...\u001b[0m\n",
       "\u001b[36mxSrc\u001b[0m: \u001b[32mio\u001b[0m.\u001b[32mBufferedSource\u001b[0m = empty iterator\n",
       "\u001b[36mx\u001b[0m: \u001b[32mList\u001b[0m[\u001b[32mList\u001b[0m[\u001b[32mDouble\u001b[0m]] = \u001b[33mList\u001b[0m(\n",
       "  \u001b[33mList\u001b[0m(\n",
       "    \u001b[32m5.1\u001b[0m,\n",
       "    \u001b[32m4.9\u001b[0m,\n",
       "    \u001b[32m4.7\u001b[0m,\n",
       "    \u001b[32m4.6\u001b[0m,\n",
       "    \u001b[32m5.0\u001b[0m,\n",
       "    \u001b[32m5.4\u001b[0m,\n",
       "    \u001b[32m4.6\u001b[0m,\n",
       "    \u001b[32m5.0\u001b[0m,\n",
       "    \u001b[32m4.4\u001b[0m,\n",
       "    \u001b[32m4.9\u001b[0m,\n",
       "    \u001b[32m5.4\u001b[0m,\n",
       "    \u001b[32m4.8\u001b[0m,\n",
       "    \u001b[32m4.8\u001b[0m,\n",
       "    \u001b[32m4.3\u001b[0m,\n",
       "    \u001b[32m5.8\u001b[0m,\n",
       "    \u001b[32m5.7\u001b[0m,\n",
       "    \u001b[32m5.4\u001b[0m,\n",
       "    \u001b[32m5.1\u001b[0m,\n",
       "\u001b[33m...\u001b[0m"
      ]
     },
     "metadata": {},
     "output_type": "display_data"
    }
   ],
   "source": [
    "implicit def List2Vec[T](x: List[T]) = x.toVector\n",
    "\n",
    "val ySrc = scala.io.Source.fromFile(\"../resources/iris_y.csv\")\n",
    "val y = ySrc.getLines.map{ _.toDouble}.toList\n",
    "\n",
    "val xSrc = scala.io.Source.fromFile(\"../resources/iris_x.csv\")\n",
    "val x = xSrc.getLines.map{ _.split(\",\").map{ _.toDouble}.toList}.toList.transpose\n",
    "\n"
   ]
  },
  {
   "cell_type": "code",
   "execution_count": 10,
   "metadata": {},
   "outputs": [
    {
     "data": {
      "text/plain": [
       "\u001b[36madaboost\u001b[0m: \u001b[32mAdaBoost\u001b[0m = com.github.timsetsfire.classifier.AdaBoost@7ac36c3"
      ]
     },
     "metadata": {},
     "output_type": "display_data"
    }
   ],
   "source": [
    "val adaboost = new AdaBoost(x,y,3)"
   ]
  },
  {
   "cell_type": "code",
   "execution_count": null,
   "metadata": {},
   "outputs": [],
   "source": []
  }
 ],
 "metadata": {
  "hide_input": false,
  "kernelspec": {
   "display_name": "Scala 2.11",
   "language": "scala211",
   "name": "scala211"
  },
  "language_info": {
   "codemirror_mode": "text/x-scala",
   "file_extension": ".scala",
   "mimetype": "text/x-scala",
   "name": "scala211",
   "pygments_lexer": "scala",
   "version": "2.11.8"
  },
  "varInspector": {
   "cols": {
    "lenName": 16,
    "lenType": 16,
    "lenVar": 40
   },
   "kernels_config": {
    "python": {
     "delete_cmd_postfix": "",
     "delete_cmd_prefix": "del ",
     "library": "var_list.py",
     "varRefreshCmd": "print(var_dic_list())"
    },
    "r": {
     "delete_cmd_postfix": ") ",
     "delete_cmd_prefix": "rm(",
     "library": "var_list.r",
     "varRefreshCmd": "cat(var_dic_list()) "
    }
   },
   "types_to_exclude": [
    "module",
    "function",
    "builtin_function_or_method",
    "instance",
    "_Feature"
   ],
   "window_display": false
  }
 },
 "nbformat": 4,
 "nbformat_minor": 2
}
