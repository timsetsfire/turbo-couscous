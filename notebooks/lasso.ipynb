{
 "cells": [
  {
   "cell_type": "code",
   "execution_count": 1,
   "metadata": {},
   "outputs": [
    {
     "data": {
      "application/vnd.jupyter.widget-view+json": {
       "model_id": "",
       "version_major": 2,
       "version_minor": 0
      },
      "method": "display_data"
     },
     "metadata": {},
     "output_type": "display_data"
    },
    {
     "data": {
      "application/vnd.jupyter.widget-view+json": {
       "model_id": "5eb8f3fe-2dc5-43e1-a77b-129766ed717d",
       "version_major": 2,
       "version_minor": 0
      },
      "method": "display_data"
     },
     "metadata": {},
     "output_type": "display_data"
    }
   ],
   "source": [
    "%%classpath add mvn \n",
    "org.scalanlp breeze_2.11 0.13.2\n",
    "org.scalanlp breeze-natives_2.11 0.13.2\n",
    "org.scalanlp breeze-viz_2.11 0.13.2"
   ]
  },
  {
   "cell_type": "code",
   "execution_count": 2,
   "metadata": {},
   "outputs": [
    {
     "data": {
      "text/plain": [
       "import breeze.stats._\r\n",
       "import breeze.numerics._\r\n",
       "import breeze.linalg._\r\n",
       "import scala.util.control.Breaks\r\n",
       "stdizeMatrix: (x: breeze.linalg.DenseMatrix[Double])(breeze.linalg.DenseMatrix[Double], breeze.linalg.Transpose[breeze.linalg.DenseVector[Double]], breeze.linalg.DenseMatrix[Double])\r\n",
       "stdizeVector: (x: breeze.linalg.DenseVector[Double])(breeze.linalg.DenseVector[Double], Double, Double)\r\n",
       "import breeze.linalg.{$times, DenseMatrix, DenseVector, diag, pinv}\r\n",
       "import breeze.numerics.{abs, signum, sqrt}\r\n",
       "import breeze.stats.{mean, variance}\r\n",
       "g: (x: breeze.linalg.DenseMatrix[Double], b: breeze.linalg.DenseVector[Double])breeze.linalg.DenseVector[Double]\r\n",
       "softThresh: (b: Double, gamma: Double)Double\n"
      ]
     },
     "execution_count": 2,
     "metadata": {},
     "output_type": "execute_result"
    }
   ],
   "source": [
    "import breeze.stats._\n",
    "import breeze.numerics._\n",
    "import breeze.linalg._\n",
    "import scala.util.control.Breaks\n",
    "\n",
    "def stdizeMatrix(x: DenseMatrix[Double]) = {\n",
    "  val n = x.rows.toDouble\n",
    "  val mu = mean(x(::,*))\n",
    "  val sig = (n-1)/n*(diag(variance(x(::,*))))\n",
    "  val xs = (x(*,::).map{ _ - mu.t})*pinv(sqrt(sig))\n",
    "  (xs, mu, sig)\n",
    "}\n",
    "\n",
    "def stdizeVector(x: DenseVector[Double]) = {\n",
    "  val n = x.length.toDouble\n",
    "  val sig = (n-1)/(n) * variance(x)\n",
    "  val mu = mean(x)\n",
    "  val xs = 1/sqrt(sig) * (x - mean(x))\n",
    "  (xs, mu, sig)\n",
    "}\n",
    "\n",
    "import breeze.linalg.{*, DenseMatrix, DenseVector, diag, pinv}\n",
    "import breeze.numerics.{abs, signum, sqrt}\n",
    "import breeze.stats.{mean, variance}\n",
    "\n",
    "// instead of adding in a vector of ones to represent the bias, use the following with the Params case class\n",
    "def g(x: DenseMatrix[Double], b: DenseVector[Double]) = {\n",
    "  if(x.cols == b.length) x*b else (x*b(0 to -2)).map{ _ + b(-1)}\n",
    "}\n",
    "def softThresh(b: Double, gamma: Double) = {\n",
    "    val sig = signum(b);\n",
    "    val f = abs(b) - gamma  ;\n",
    "    val pos = ( abs(f) + f ) /2;\n",
    "    sig * pos;\n",
    "}"
   ]
  },
  {
   "cell_type": "code",
   "execution_count": 4,
   "metadata": {},
   "outputs": [
    {
     "data": {
      "text/plain": [
       "import breeze.linalg._\n"
      ]
     },
     "execution_count": 4,
     "metadata": {},
     "output_type": "execute_result"
    }
   ],
   "source": [
    "import breeze.linalg._"
   ]
  },
  {
   "cell_type": "code",
   "execution_count": 5,
   "metadata": {},
   "outputs": [
    {
     "data": {
      "text/plain": [
       "breeze.linalg.CSCMatrix$Builder$mcD$sp@2d300eb9"
      ]
     },
     "execution_count": 5,
     "metadata": {},
     "output_type": "execute_result"
    }
   ],
   "source": [
    "val builder = new CSCMatrix.Builder[Double](10,10)\n",
    "\n",
    "// etc.\n",
    "// val myMatrix = builder.result()"
   ]
  },
  {
   "cell_type": "code",
   "execution_count": 6,
   "metadata": {},
   "outputs": [
    {
     "ename": "input is incomplete",
     "evalue": "input is incomplete",
     "output_type": "error",
     "traceback": [
      "\u001b[1;31minput is incomplete\u001b[0;0m"
     ]
    }
   ],
   "source": [
    "// val myMatrix2 = myMatrix * myMatrix"
   ]
  },
  {
   "cell_type": "code",
   "execution_count": 7,
   "metadata": {},
   "outputs": [],
   "source": [
    "val x = breeze.linalg.csvread(new java.io.File(\"xout.csv\"))\n",
    "val y = breeze.linalg.csvread(new java.io.File(\"yout.csv\")).toDenseVector\n",
    "OutputCell.HIDDEN"
   ]
  },
  {
   "cell_type": "code",
   "execution_count": 8,
   "metadata": {},
   "outputs": [
    {
     "name": "stderr",
     "output_type": "stream",
     "text": [
      "Oct 25, 2018 9:09:48 AM com.github.fommil.netlib.LAPACK <clinit>\n",
      "WARNING: Failed to load implementation from: com.github.fommil.netlib.NativeSystemLAPACK\n",
      "Oct 25, 2018 9:09:48 AM com.github.fommil.jni.JniLoader liberalLoad\n",
      "INFO: successfully loaded C:\\Users\\WHITTA~1\\AppData\\Local\\Temp\\jniloader2192914725519563670netlib-native_ref-win-x86_64.dll\n",
      "Oct 25, 2018 9:09:48 AM com.github.fommil.netlib.BLAS <clinit>\n",
      "WARNING: Failed to load implementation from: com.github.fommil.netlib.NativeSystemBLAS\n",
      "Oct 25, 2018 9:09:48 AM com.github.fommil.jni.JniLoader load\n",
      "INFO: already loaded netlib-native_ref-win-x86_64.dll\n"
     ]
    }
   ],
   "source": [
    "val (xs, _, _) = stdizeMatrix(x)\n",
    "val (ys, _, _) = stdizeVector(y)\n",
    "OutputCell.HIDDEN"
   ]
  },
  {
   "cell_type": "code",
   "execution_count": 9,
   "metadata": {},
   "outputs": [
    {
     "data": {
      "text/plain": [
       "breeze.linalg.CSCMatrix$Builder$mcD$sp@a22e33c"
      ]
     },
     "execution_count": 9,
     "metadata": {},
     "output_type": "execute_result"
    }
   ],
   "source": [
    "// val covMatSparse = new CSCMatrix.Builder[Double](13, 13)\n",
    "val covMat = DenseMatrix.eye[Double](13)\n",
    "val beta = new CSCMatrix.Builder[Double](13, 100)\n",
    "val alpha = new CSCMatrix.Builder[Double](1, 100)"
   ]
  },
  {
   "cell_type": "code",
   "execution_count": 10,
   "metadata": {},
   "outputs": [
    {
     "data": {
      "text/plain": [
       "followingPairs: (ls: List[Int])List[(Int, List[Int])]\n"
      ]
     },
     "execution_count": 10,
     "metadata": {},
     "output_type": "execute_result"
    }
   ],
   "source": [
    "def followingPairs(ls: List[Int]) = { \n",
    "\n",
    "    def helper(l: Int, ls: List[Int], pairs: List[(Int, List[Int])]): List[(Int, List[Int])] = {\n",
    "        if(ls.isEmpty) pairs\n",
    "        else helper(ls.head, ls.tail, (l, ls)::pairs)\n",
    "    }\n",
    "\n",
    "    if(ls.isEmpty) Nil else helper(ls.head, ls.tail, List())\n",
    "    \n",
    "}"
   ]
  },
  {
   "cell_type": "code",
   "execution_count": 11,
   "metadata": {},
   "outputs": [
    {
     "ename": "input is incomplete",
     "evalue": "input is incomplete",
     "output_type": "error",
     "traceback": [
      "\u001b[1;31minput is incomplete\u001b[0;0m"
     ]
    }
   ],
   "source": [
    "// val pairs =(for( i <- on.activeKeysIterator; j <- on.activeKeysIterator) yield (i,j)).toList.filter{ case(i,j) => i < j }"
   ]
  },
  {
   "cell_type": "code",
   "execution_count": 12,
   "metadata": {},
   "outputs": [
    {
     "ename": "input is incomplete",
     "evalue": "input is incomplete",
     "output_type": "error",
     "traceback": [
      "\u001b[1;31minput is incomplete\u001b[0;0m"
     ]
    }
   ],
   "source": [
    "// import breeze.stats.distributions.Gaussian\n",
    "\n",
    "// val (xs,_,_) = stdizeMatrix(DenseMatrix.rand(100,1000, Gaussian(0,1)))\n",
    "// val (ys,_,_) = stdizeVector(DenseVector.rand(100, Gaussian(0,1)))\n",
    "// OutputCell.HIDDEN\n"
   ]
  },
  {
   "cell_type": "code",
   "execution_count": 13,
   "metadata": {},
   "outputs": [
    {
     "data": {
      "text/plain": [
       "3.7325733944405153"
      ]
     },
     "execution_count": 13,
     "metadata": {},
     "output_type": "execute_result"
    }
   ],
   "source": [
    "max(abs((xs.t*ys)/100d))"
   ]
  },
  {
   "cell_type": "code",
   "execution_count": 461,
   "metadata": {},
   "outputs": [
    {
     "data": {
      "text/plain": [
       "scala.util.control.Breaks@3179ceb9"
      ]
     },
     "execution_count": 461,
     "metadata": {},
     "output_type": "execute_result"
    }
   ],
   "source": [
    "val nobs = xs.rows.toDouble\n",
    "val nfeatures = xs.cols\n",
    "val alpha = 1.0\n",
    "val beta = DenseVector.zeros[Double](nfeatures)\n",
    "val betaOld = DenseVector.ones[Double](nfeatures)\n",
    "val temp = beta.copy\n",
    "val seenPairs = scala.collection.mutable.Set[(Int, Int)]()\n",
    "var notConverged = true\n",
    "\n",
    "\n",
    "val xTy = (xs.t * ys) / nobs\n",
    "\n",
    "val lambdaMax = max( abs( xTy ) ) / (if(alpha==0) 0.001 else alpha)\n",
    "val lambdaMin = if(x.rows < x.cols) lambdaMax * 1e-2 else lambdaMax * 1e-4\n",
    "val lambdaSeq = linspace(log(lambdaMax), log(lambdaMin), 100)\n",
    "\n",
    "def cost(x: DenseMatrix[Double],y: DenseVector[Double])(b:DenseVector[Double]) = { \n",
    "    val r = y - x*b\n",
    "    r.t * r / r.length.toDouble\n",
    "}\n",
    "\n",
    "val on = DenseVector.fill(nfeatures){0d} >:> 0d\n",
    "\n",
    "val covmat = DenseMatrix.eye[Double](nfeatures)\n",
    "\n",
    "var j = cost(xs, ys)(beta)\n",
    "\n",
    "val outerLoop = new Breaks()\n",
    "val innerLoop = new Breaks()\n",
    "\n",
    "// loop here \n",
    "\n",
    "\n"
   ]
  },
  {
   "cell_type": "code",
   "execution_count": 462,
   "metadata": {},
   "outputs": [
    {
     "data": {
      "text/plain": [
       "0.7376627261740148"
      ]
     },
     "execution_count": 462,
     "metadata": {},
     "output_type": "execute_result"
    }
   ],
   "source": [
    "lambdaMax"
   ]
  },
  {
   "cell_type": "markdown",
   "metadata": {},
   "source": [
    "## Naive Updates"
   ]
  },
  {
   "cell_type": "code",
   "execution_count": 463,
   "metadata": {},
   "outputs": [
    {
     "data": {
      "text/plain": [
       "1"
      ]
     },
     "execution_count": 463,
     "metadata": {},
     "output_type": "execute_result"
    }
   ],
   "source": [
    "var i = 1"
   ]
  },
  {
   "cell_type": "code",
   "execution_count": 464,
   "metadata": {},
   "outputs": [
    {
     "data": {
      "text/plain": [
       "DenseVector(0.0, 0.0, 0.0, 0.0, 0.0, 0.0, 0.0, 0.0, 0.0, 0.0, 0.0, 0.0, 0.0)"
      ]
     },
     "execution_count": 464,
     "metadata": {},
     "output_type": "execute_result"
    }
   ],
   "source": [
    "beta"
   ]
  },
  {
   "cell_type": "code",
   "execution_count": 465,
   "metadata": {},
   "outputs": [
    {
     "data": {
      "text/plain": [
       "0.7376627261740148"
      ]
     },
     "execution_count": 465,
     "metadata": {},
     "output_type": "execute_result"
    }
   ],
   "source": [
    "var lambda = max(abs(xs.t * ys)/nobs.toDouble)"
   ]
  },
  {
   "cell_type": "code",
   "execution_count": 466,
   "metadata": {},
   "outputs": [
    {
     "data": {
      "text/plain": [
       "0.7376627261740148"
      ]
     },
     "execution_count": 466,
     "metadata": {},
     "output_type": "execute_result"
    }
   ],
   "source": [
    "max(abs(xTy))"
   ]
  },
  {
   "cell_type": "code",
   "execution_count": 467,
   "metadata": {},
   "outputs": [
    {
     "data": {
      "text/plain": [
       "0.7376627261740148"
      ]
     },
     "execution_count": 467,
     "metadata": {},
     "output_type": "execute_result"
    }
   ],
   "source": [
    "\n",
    "val r = (ys - xs*beta)\n",
    "val on = (xs.t * r)/nobs.toDouble >:> alpha * lambda\n",
    "lambda"
   ]
  },
  {
   "cell_type": "code",
   "execution_count": 468,
   "metadata": {},
   "outputs": [
    {
     "data": {
      "text/plain": [
       "0"
      ]
     },
     "execution_count": 468,
     "metadata": {},
     "output_type": "execute_result"
    }
   ],
   "source": [
    "var i = 0"
   ]
  },
  {
   "cell_type": "code",
   "execution_count": 469,
   "metadata": {},
   "outputs": [
    {
     "data": {
      "text/plain": [
       "BitVector()"
      ]
     },
     "execution_count": 469,
     "metadata": {},
     "output_type": "execute_result"
    }
   ],
   "source": [
    "(xs.t*r)/nobs >:> lambda"
   ]
  },
  {
   "cell_type": "code",
   "execution_count": 470,
   "metadata": {},
   "outputs": [
    {
     "data": {
      "text/plain": [
       "BitVector()"
      ]
     },
     "execution_count": 470,
     "metadata": {},
     "output_type": "execute_result"
    }
   ],
   "source": [
    "on := abs(xs.t * r) / nobs >:> alpha * lambda"
   ]
  },
  {
   "cell_type": "code",
   "execution_count": 474,
   "metadata": {},
   "outputs": [
    {
     "data": {
      "text/plain": [
       "0"
      ]
     },
     "execution_count": 474,
     "metadata": {},
     "output_type": "execute_result"
    }
   ],
   "source": [
    "betaOld(0 to -1) := 1d\n",
    "\n",
    "betaOld := 1d\n",
    "var iter = 0"
   ]
  },
  {
   "cell_type": "markdown",
   "metadata": {},
   "source": [
    "## Pretty Fast"
   ]
  },
  {
   "cell_type": "code",
   "execution_count": 495,
   "metadata": {},
   "outputs": [
    {
     "name": "stdout",
     "output_type": "stream",
     "text": [
      "0.10456178553058171\n",
      "BitVector(3, 5, 10, 11, 12)\n",
      "(iter: 1,active keys,BitVector(3, 5, 10, 11, 12))\n",
      "(iter: 1,beta,DenseVector(0.0, 0.0, 0.0, 0.00494108401931935, 0.0, 0.2973036952069045, 0.0, 0.0, 0.0, 0.0, -0.15076082117828793, 0.02271232534839565, -0.3960374301465106))\n",
      "BitVector(3, 5, 10, 11, 12)\n"
     ]
    },
    {
     "data": {
      "text/plain": [
       "null"
      ]
     },
     "execution_count": 495,
     "metadata": {},
     "output_type": "execute_result"
    }
   ],
   "source": [
    "val lambda = exp(lambdaSeq(i))\n",
    "println(lambda)\n",
    "on := abs( xs.t * r)/nobs.toDouble >:> alpha * lambda\n",
    "betaOld := 1d\n",
    "println(on)\n",
    "iter = 0\n",
    "while(norm(betaOld - beta)/nfeatures.toDouble >1e-3 ) {\n",
    "  for(i <- on.activeKeysIterator) { \n",
    "      val t1 = xs(::, i).t * r / nobs.toDouble + beta(i)\n",
    "      beta(i) = softThresh(t1, alpha*lambda) / ( 1 + lambda*(1 - alpha))\n",
    "  } \n",
    "  j = cost(xs,ys)(beta)\n",
    "  iter += 1  \n",
    "// }\n",
    "r:= (ys - xs*beta) \n",
    "on := abs(beta) >:> 0d\n",
    "println(s\"iter: $iter\", \"active keys\", on)\n",
    "if(1d -j > 0.9) outerLoop.break\n",
    "// i += 1\n",
    "println(s\"iter: $iter\", \"beta\", beta)\n",
    "    betaOld := beta\n",
    "}\n",
    "println(on)\n",
    "\n",
    "i += 1"
   ]
  },
  {
   "cell_type": "code",
   "execution_count": 269,
   "metadata": {},
   "outputs": [
    {
     "data": {
      "text/plain": [
       "null"
      ]
     },
     "execution_count": 269,
     "metadata": {},
     "output_type": "execute_result"
    }
   ],
   "source": []
  },
  {
   "cell_type": "code",
   "execution_count": 260,
   "metadata": {},
   "outputs": [
    {
     "data": {
      "text/plain": [
       "BitVector()"
      ]
     },
     "execution_count": 260,
     "metadata": {},
     "output_type": "execute_result"
    }
   ],
   "source": [
    "abs(xs.t * r / nobs ) >:> lambda"
   ]
  },
  {
   "cell_type": "code",
   "execution_count": 166,
   "metadata": {},
   "outputs": [
    {
     "data": {
      "text/plain": [
       "BitVector(0, 1, 2, 3, 4, 5, 6, 7, 8, 9, 10, 11, 12)"
      ]
     },
     "execution_count": 166,
     "metadata": {},
     "output_type": "execute_result"
    }
   ],
   "source": [
    "on"
   ]
  },
  {
   "cell_type": "code",
   "execution_count": 287,
   "metadata": {},
   "outputs": [
    {
     "data": {
      "text/plain": [
       "BitVector()"
      ]
     },
     "execution_count": 287,
     "metadata": {},
     "output_type": "execute_result"
    }
   ],
   "source": [
    "    val nobs = xs.rows.toDouble\n",
    "    val nfeatures = xs.cols\n",
    "    val alpha = 1.0\n",
    "    val beta = DenseVector.zeros[Double](nfeatures)\n",
    "    val betaOld = DenseVector.ones[Double](nfeatures)\n",
    "    \n",
    "    betaOld := DenseVector.ones[Double](nfeatures)\n",
    "    \n",
    "    val r = (ys - xs*beta)\n",
    "    val on = abs( xs.t * r) / nobs >:> alpha * exp(lambdaSeq(0))"
   ]
  },
  {
   "cell_type": "code",
   "execution_count": 283,
   "metadata": {},
   "outputs": [
    {
     "data": {
      "text/plain": [
       "DenseVector(0.0, 0.0, 0.0, 0.0, 0.0, 0.0, 0.0, 0.0, 0.0, 0.0, 0.0, 0.0, 0.0)"
      ]
     },
     "execution_count": 283,
     "metadata": {},
     "output_type": "execute_result"
    }
   ],
   "source": [
    "\n",
    " \n",
    "for(lambda <- exp(lambdaSeq(1 to -1))) {   \n",
    "\n",
    "    while( norm(beta - betaOld)/nfeatures.toDouble > 0.001) { \n",
    "      betaOld := beta\n",
    "      for(i <- on.activeKeysIterator) { \n",
    "          val t1 = xs(::, i).t * r / nobs.toDouble + beta(i)\n",
    "          \n",
    "          beta(i) = softThresh(t1, alpha*lambda) / ( 1 + lambda*(1 - alpha))\n",
    "      }\n",
    "      j = cost(xs,ys)(beta)\n",
    "    }\n",
    "    r:= (ys - xs*beta)  \n",
    "    on := abs( xs.t * r)/nobs >:> alpha * lambda\n",
    "    if(1d -j > 0.9) outerLoop.break\n",
    "    }\n",
    "\n",
    "beta"
   ]
  },
  {
   "cell_type": "code",
   "execution_count": 210,
   "metadata": {},
   "outputs": [
    {
     "data": {
      "text/plain": [
       "DenseVector(-0.38830460858681176, 0.3604453424505436, -0.483725160028373, 0.1752601771902986, -0.42732077237328353, 0.6953599470715407, -0.37695456500459695, 0.24992873408590402, -0.38162623063977846, -0.46853593356776707, -0.5077866855375605, 0.3334608196570666, -0.7376627261740148)"
      ]
     },
     "execution_count": 210,
     "metadata": {},
     "output_type": "execute_result"
    }
   ],
   "source": [
    "(xs.t * r)/nobs.toDouble"
   ]
  },
  {
   "cell_type": "code",
   "execution_count": 208,
   "metadata": {},
   "outputs": [
    {
     "data": {
      "text/plain": [
       "BitVector(0, 1, 2, 3, 4, 5, 6, 7, 8, 9, 10, 11, 12)"
      ]
     },
     "execution_count": 208,
     "metadata": {},
     "output_type": "execute_result"
    }
   ],
   "source": [
    "EnetNaiveUpdates.run\n",
    "on"
   ]
  },
  {
   "cell_type": "markdown",
   "metadata": {},
   "source": [
    "## Covariance Updates"
   ]
  },
  {
   "cell_type": "code",
   "execution_count": 288,
   "metadata": {},
   "outputs": [
    {
     "data": {
      "text/plain": [
       "$line308.$read$$iw$$iw$$iw$$iw$$iw$$iw$$iw$$iw$$iw$$iw$$iw$$iw$$iw$$iw$$iw$$iw$$iw$$iw$$iw$$iw$$iw$$iw$$iw$$iw$$iw$$iw$$iw$$iw$$iw$$iw$EnetCovUpdates$@59c069f5"
      ]
     },
     "execution_count": 288,
     "metadata": {},
     "output_type": "execute_result"
    }
   ],
   "source": [
    "object EnetCovUpdates {\n",
    "def run = {outerLoop.breakable { \n",
    "for(lambda <- exp(lambdaSeq)) {   \n",
    "    betaOld := DenseVector.ones[Double](nfeatures)\n",
    "    on := abs(xTy)  >:> alpha * lambda\n",
    "    val pairs = followingPairs(on.activeKeysIterator.toList).flatMap{ i => i._2.map{ (i._1, _)}}\n",
    "    // println(on)\n",
    "    for( (i,j) <- pairs) { \n",
    "      if(!(seenPairs contains (i,j))) {\n",
    "        val c = (xs(::, i).t*xs(::,j))/nobs\n",
    "        covmat(i,j) = c\n",
    "        covmat(j,i) = c\n",
    "        seenPairs.add((i,j))\n",
    "      }\n",
    "    }\n",
    "    while( norm(beta - betaOld)/nfeatures.toDouble > 0.01) { \n",
    "      betaOld := beta\n",
    "      for(i <- on.activeKeysIterator) { \n",
    "          val t1 = xTy(i)\n",
    "//           val temp() -= covmat(i, on)*beta(on)\n",
    "//           val t3 += beta(i)    \n",
    "          val t2 = covmat(i, on)*beta(on)\n",
    "          val t3 = beta(i)    \n",
    "//           beta(i) = softThresh(temp(i), alpha*lambda) / ( 1 + lambda*(1 - alpha))\n",
    "          beta(i) = softThresh(t1 - t2 + t3, alpha*lambda) / ( 1 + lambda*(1 - alpha))\n",
    "      }\n",
    "      j = cost(xs,ys)(beta)\n",
    "    }\n",
    "    println(beta)   \n",
    "    if(1d -j > 0.9) outerLoop.break\n",
    "    }\n",
    "}\n",
    "}\n",
    "}"
   ]
  },
  {
   "cell_type": "code",
   "execution_count": 289,
   "metadata": {},
   "outputs": [
    {
     "name": "stdout",
     "output_type": "stream",
     "text": [
      "DenseVector(0.0, 0.0, 0.0, 0.0, 0.0, 0.0, 0.0, 0.0, 0.0, 0.0, 0.0, 0.0, 0.0)\n",
      "DenseVector(0.0, 0.0, 0.0, 0.0, 0.0, 0.02322914440715984, 0.0, 0.0, 0.0, 0.0, 0.0, 0.0, -0.05127368252414022)\n",
      "DenseVector(0.0, 0.0, 0.0, 0.0, 0.0, 0.05146718198337874, 0.0, 0.0, 0.0, 0.0, 0.0, 0.0, -0.09365118951717055)\n",
      "DenseVector(0.0, 0.0, 0.0, 0.0, 0.0, 0.07986127182115954, 0.0, 0.0, 0.0, 0.0, 0.0, 0.0, -0.13062841647380208)\n",
      "DenseVector(0.0, 0.0, 0.0, 0.0, 0.0, 0.10673684096365121, 0.0, 0.0, 0.0, 0.0, 0.0, 0.0, -0.16370446674217665)\n",
      "DenseVector(0.0, 0.0, -0.0, 0.0, 0.0, 0.13160310062863634, 0.0, 0.0, 0.0, -0.0, -0.0, 0.0, -0.1936099637898132)\n",
      "DenseVector(0.0, 0.0, -0.0, 0.0, -0.0, 0.15440281700497016, 0.0, 0.0, 0.0, -0.0, -0.0, 0.0, -0.22077126712026096)\n",
      "DenseVector(-0.0, 0.0, -0.0, 0.0, -0.0, 0.17523076032072316, 0.0, 0.0, 0.0, -0.0, -0.0, 0.0, -0.2454866792017415)\n",
      "DenseVector(-0.0, 0.0, -0.0, 0.0, -0.0, 0.19422863517330313, -0.0, 0.0, -0.0, -0.0, -0.0, 0.0, -0.26799402570012465)\n",
      "DenseVector(-0.0, 0.0, -0.0, 0.0, -0.0, 0.21154641253000356, -0.0, 0.0, -0.0, -0.0, -0.013023392731888073, 0.0, -0.2836258774877067)\n",
      "DenseVector(-0.0, 0.0, -0.0, 0.0, -0.0, 0.2256888223341202, -0.0, 0.0, -0.0, -0.0, -0.030515944905326442, 0.0, -0.29676936495684586)\n",
      "DenseVector(-0.0, 0.0, -0.0, 0.0, -0.0, 0.2372497535424104, -0.0, 0.0, -0.0, -0.0, -0.04733691077197277, 0.0, -0.3092285240459788)\n",
      "DenseVector(-0.0, 0.0, -0.0, 0.0, -0.0, 0.24717329233991345, -0.0, 0.0, -0.0, -0.0, -0.06269975246224349, 0.0, -0.3209419424354836)\n",
      "DenseVector(-0.0, 0.0, -0.0, 0.0, -0.0, 0.2559807365860616, -0.0, 0.0, -0.0, -0.0, -0.07664610581862052, 0.0, -0.33177805661837223)\n",
      "DenseVector(-0.0, 0.0, -0.0, 0.0, -0.0, 0.26392390487687234, -0.0, 0.0, -0.0, -0.0, -0.08932152496732004, 0.0, -0.34171371999509614)\n",
      "DenseVector(-0.0, 0.0, -0.0, 0.0, -0.0, 0.2711346137359302, -0.0, 0.0, -0.0, -0.0, -0.10085716044993734, 0.0, -0.35078832003711746)\n",
      "DenseVector(-0.0, 0.0, -0.0, 0.0, -0.0, 0.2776963713403363, -0.0, -0.0, -0.0, -0.0, -0.11136290107129684, 0.0, -0.3590638041980899)\n",
      "DenseVector(-0.0, 0.0, -0.0, 0.0, -0.0, 0.28367268857896727, -0.0, -0.0, -0.0, -0.0, -0.12093359790520891, 0.0, -0.3666063108466751)\n",
      "DenseVector(-0.0, 0.0, -0.0, 0.0, -0.0, 0.2891173593077632, -0.0, -0.0, -0.0, -0.0, -0.12965349830678635, 0.0010012930554759158, -0.3731128581845913)\n",
      "DenseVector(-0.0, 0.0, -0.0, 0.0, -0.0, 0.29417490087294096, -0.0, -0.0, -0.0, -0.0, -0.1375236710022234, 0.00885506763481389, -0.3764690259685423)\n",
      "DenseVector(-0.0, 0.0, -0.0, 0.0, -0.0, 0.2994997872888161, -0.0, -0.0, -0.0, -0.0, -0.1441707922768528, 0.01695398962121107, -0.3789379497572008)\n",
      "DenseVector(-0.0, 0.0, -0.0, 0.004586713083521141, -0.0, 0.304360163831752, -0.0, -0.0, -0.0, -0.0, -0.14972011048322797, 0.0244141970067418, -0.3810951220748163)\n",
      "DenseVector(-0.0, 0.0, -0.0, 0.012277545241098545, -0.0, 0.3086950471120335, -0.0, -0.0, -0.0, -0.0, -0.15440328676782017, 0.03115236141010891, -0.38309008531685895)\n",
      "DenseVector(-0.0018207216399732662, 0.0, -0.0, 0.01923858342373165, -0.0, 0.31237208139290445, -0.0, -0.0, -0.0, -0.0, -0.158244644500793, 0.036692786643347686, -0.38462678571638886)\n",
      "DenseVector(-0.004389999261618524, 0.0, -0.0, 0.025651358255350476, -0.0, 0.3159170747422536, -0.0, -0.0, -0.0, -0.0, -0.1616144960415003, 0.04148813224878099, -0.385630273009462)\n",
      "DenseVector(-0.007000325779610503, 0.0, -0.0, 0.03151118823997025, -0.0, 0.31940875652576345, -0.0, -0.0, -0.0, -0.0, -0.16470509745579293, 0.04586111120111723, -0.38625157364577434)\n",
      "DenseVector(-0.009446744424593395, 0.0, -0.0, 0.03683595567711773, -0.0, 0.3227489155938409, -0.0, -0.0, -0.0, -0.0, -0.16755574436356063, 0.04990095363689004, -0.38665688702970696)\n",
      "DenseVector(-0.011683766967528368, 0.0, -0.0, 0.04167452911722292, -0.0, 0.3258711096611855, -0.0, -0.003089198054755153, -0.0, -0.0, -0.17089291729365927, 0.05439758442458075, -0.387934943134526)\n",
      "DenseVector(-0.013935774408850216, 0.0, -0.0, 0.04557905393276976, -0.0, 0.3284238855991196, -0.0, -0.012118230891960569, -0.0, -0.001011080204318865, -0.17453082731469555, 0.059400668584315836, -0.39119196081726637)\n",
      "DenseVector(-0.01637470071177921, 0.0, -0.0, 0.048259831819029944, -0.0, 0.33011250310186335, -0.0, -0.02243145642744304, -0.0, -0.0036974594604516353, -0.17679465504549388, 0.06318340330317967, -0.39517563200151307)\n",
      "DenseVector(-0.018689731965301215, 0.0, -0.0, 0.050596470122755546, -0.0029178959161560436, 0.3305207289091525, -0.0, -0.03486454376268852, -0.0, -0.006372773189185721, -0.17905242920755368, 0.06601331031982832, -0.3992765037044823)\n",
      "DenseVector(-0.02081087977880293, 0.0, -0.0, 0.05276591900451663, -0.009971969172045472, 0.3298353409468364, -0.0, -0.04957893890623506, -0.0, -0.007910513016791701, -0.1817817857272621, 0.06814315286975704, -0.4031425029617536)\n",
      "DenseVector(-0.022851648125173527, 0.0, -0.0, 0.054863421383147815, -0.019857102970158455, 0.32882804595884085, -0.0, -0.06520527192975074, 0.0, -0.0080503423663109, -0.18483379891329202, 0.06982772243512124, -0.4064725715735621)\n",
      "DenseVector(-0.024932714585373633, 0.0, -0.0, 0.056891491181894946, -0.031551000357462194, 0.32781289349515447, -0.0, -0.08084981793969057, 0.0, -0.0069869823704792056, -0.1880563181724339, 0.07119110811950188, -0.4091159910701148)\n",
      "DenseVector(-0.027056563653203032, 0.0040826042889773664, -0.0, 0.059033593276131995, -0.042147356115410824, 0.3262964376330849, -0.0, -0.096929821617907, 0.0, -0.005862996562118812, -0.19018549955873135, 0.07259967384824678, -0.41134914667504696)\n",
      "DenseVector(-0.029344524765160633, 0.010519690380928058, -0.0, 0.06105422769754852, -0.05213576228305043, 0.3246758077521424, -0.0, -0.11341196662725699, 0.0, -0.004995396142426438, -0.1913621075798156, 0.07383500621303062, -0.4131747547189509)\n",
      "DenseVector(-0.03173168692280612, 0.017790421002303217, -0.0, 0.06290993412667462, -0.06204665801230522, 0.3231842432156666, -0.0, -0.12988519267972506, 0.0, -0.004313961663410557, -0.19202132282946408, 0.074816705819686, -0.41452080725854407)\n",
      "DenseVector(-0.034095238957730645, 0.025215014288258036, -0.001062090903851981, 0.06469255610051511, -0.07115321323199347, 0.3217138188738822, -0.0, -0.1460391359858432, 0.0, -0.0035825182681106828, -0.1923222552122818, 0.07565168983631565, -0.4154709223883921)\n",
      "DenseVector(-0.036378458331058516, 0.03242333700368058, -0.003093740143904764, 0.06635725089205688, -0.07958856096428918, 0.3202961736220977, -0.0, -0.16165760083052955, 0.0, -0.00265900282361959, -0.19241573416347568, 0.0763696411776717, -0.4160864902573118)\n",
      "DenseVector(-0.03856842463905641, 0.03921637756795601, -0.005765805233439423, 0.06790635211149035, -0.08757365720917754, 0.31897833567710876, -0.0, -0.17656626514061127, 0.0013409277891392457, -0.00271888425393519, -0.1924817220795217, 0.07702739036097372, -0.4163540095220408)\n",
      "DenseVector(-0.040771585871829504, 0.04549416131905996, -0.008664179440038538, 0.06929741024962499, -0.09528297574545302, 0.31773739836469883, -0.0, -0.19061287988839615, 0.0061674128452904944, -0.00570827820140192, -0.19274350223187847, 0.07771880882228382, -0.4162419149445775)\n",
      "DenseVector(-0.04318841610156875, 0.05123262280209173, -0.011274168534853427, 0.07045051424114465, -0.10288725043500915, 0.31648769568490637, -0.0, -0.20367284618121112, 0.01364018932121273, -0.010860065349931548, -0.19330229085462233, 0.07844293591283094, -0.4158584081780005)\n",
      "DenseVector(-0.04579461875861383, 0.05647279472197069, -0.013357064110982928, 0.07140626022323332, -0.11042188341436457, 0.3152346537024364, -0.0, -0.21571539001217485, 0.023068072994459378, -0.017583942669933773, -0.19414409688255022, 0.07919227432187578, -0.415305082560922)\n",
      "DenseVector(-0.04853381722396439, 0.061262142352939114, -0.014835391514912791, 0.07219575288639887, -0.1178524732611183, 0.3139908558073162, -0.0, -0.22675276893947852, 0.03387529029455639, -0.025421349382846577, -0.19521705266112233, 0.07995261617484756, -0.41465702425332174)\n",
      "DenseVector(-0.051347421503124796, 0.06564492609463879, -0.015720193653523624, 0.0728457775190065, -0.12511697074213238, 0.31276850791954075, -0.0, -0.23682430624340148, 0.04559122548208192, -0.03401486664409579, -0.19646169093912938, 0.08071021455439423, -0.4139663867963174)\n"
     ]
    },
    {
     "name": "stdout",
     "output_type": "stream",
     "text": [
      "DenseVector(-0.054182029750114415, 0.06966165391205927, -0.016067824680408085, 0.07337864975089871, -0.1321495357572214, 0.31157744488750133, -0.0, -0.2459859247845722, 0.05783976065374733, -0.04308560451368658, -0.1978223153454414, 0.08145462441535066, -0.4132691642649296)\n",
      "DenseVector(-0.05699265715887674, 0.07334896437073883, -0.01595442533582484, 0.07381274996434269, -0.13889277876727807, 0.31042445398873536, -0.0, -0.2543025625648292, 0.07032653026122293, -0.05241601075619213, -0.19925104373717673, 0.08217861291447894, -0.4125902979135034)\n",
      "DenseVector(-0.05974388642970798, 0.07673972936936631, -0.015461267324504481, 0.07416330888115434, -0.14530288286950685, 0.3093134223335973, -0.0, -0.26184284365375143, 0.08282552390284356, -0.061836676306495496, -0.2007087389877921, 0.08287729573536094, -0.41194683160826234)\n",
      "DenseVector(-0.06240955915761051, 0.07986327023800656, -0.014666728621670958, 0.07444311561147758, -0.15135065618253282, 0.3082459634668122, -0.0, -0.26867547290001154, 0.09516640369637427, -0.07121615975515375, -0.20216458645267973, 0.08354737069912142, -0.4113498231032541)\n",
      "DenseVector(-0.06497161818610711, 0.0827455925857641, -0.013642217504928614, 0.07466305461957136, -0.15702044946043484, 0.30722218609985064, -0.0, -0.27486686937008464, 0.10722330470636518, -0.08045310810336445, -0.20359513095066192, 0.08418661726552239, -0.41080562295647327)\n",
      "DenseVector(-0.06741861397093639, 0.08540961521904591, -0.01245039273826316, 0.07483248518233532, -0.16230810180462277, 0.3062413821081347, -0.0, -0.2804796706864793, 0.11890538880765615, -0.0894701296735027, -0.20498315814093945, 0.08479360623853016, -0.41031686662622835)\n",
      "DenseVector(-0.069744209891437, 0.08787540551701312, -0.011144694165239645, 0.07495950518792588, -0.16721858167426412, 0.3053025360465324, -0.0, -0.28557185573723826, 0.1301491196059217, -0.09820900728914479, -0.20631659695515175, 0.08536753399653277, -0.4098833292845803)\n",
      "DenseVector(-0.0719458610619949, 0.09016043635185014, -0.009769607982186347, 0.07505113829969812, -0.17176368708938264, 0.3044046437176435, -0.0, -0.2901963147006774, 0.14091207712368314, -0.1066269385283876, -0.2075875182216622, 0.08590811865879444, -0.4095026878089361)\n",
      "DenseVector(-0.074023731743043, 0.09227986836555695, -0.008361331520658504, 0.07511347298640399, -0.17595998853007894, 0.3035468703317768, -0.0, -0.2944007449697613, 0.15116807775903757, -0.11469356392807312, -0.20879125649155283, 0.08641552247652114, -0.4091711909462698)\n",
      "DenseVector(-0.07597985377510788, 0.09424685001642909, -0.006948639337441929, 0.07515177207047043, -0.17982709251318826, 0.30272859293334686, -0.0, -0.2982277807803951, 0.1609033634209893, -0.1223886001869369, -0.2099256599406942, 0.0868902835392406, -0.40888422795085866)\n",
      "DenseVector(-0.07781749829911713, 0.09607282141362022, -0.005553829953098145, 0.07517056422978732, -0.18338624297444459, 0.3019493702972265, -0.0, -0.30171528295096456, 0.17011364619706124, -0.12969993850518216, -0.21099046318036144, 0.08733325063364264, -0.408636789370689)\n",
      "DenseVector(-0.07954072232289466, 0.09776780672721005, -0.004193677599686536, 0.07517372411992729, -0.1866592433958451, 0.3012088753976806, -0.0, -0.3048967290118493, 0.17880182606880218, -0.13662210153596432, -0.21198677320017395, 0.08774552033390381, -0.40842382104811503)\n",
      "DenseVector(-0.08115405132092582, 0.09934068224136178, -0.002880340993041059, 0.0751645448068399, -0.18966766458876935, 0.30050681586136274, -0.0, -0.30780165590020925, 0.18697623127821514, -0.14315497829443338, -0.2129166565282328, 0.08812837745443072, -0.40824047923129014)\n",
      "DenseVector(-0.08266226343611968, 0.10079941109238821, -0.0016221994268037286, 0.07514580441553625, -0.1924322950001868, 0.2998428589453731, -0.0, -0.31045611823706165, 0.19464926043036315, -0.1493027763823017, -0.21378281480263608, 0.08848324041604769, -0.40808229937124163)\n",
      "DenseVector(-0.08407024688817523, 0.10215124003385505, -4.245993795565922E-4, 0.07511982787432149, -0.19497278860427175, 0.2992165704388752, -0.0, -0.31288313505847143, 0.20183633097376008, -0.15507314623419655, -0.21458833582276826, 0.08881161277964968, -0.4079452935420037)\n",
      "DenseVector(-0.08538290830620265, 0.10340285737404994, -0.0, 0.0751331983425485, -0.19676973262484282, 0.2985079016290641, -0.0, -0.31516285744430067, 0.20859421543662016, -0.16042516172774135, -0.21525895722485527, 0.0891504887157471, -0.4078790161108468)\n",
      "DenseVector(-0.08662845458646971, 0.10456436168346218, -0.0, 0.07512724319108545, -0.19819976204376405, 0.2977694249466246, -0.0, -0.3173428978040947, 0.21492494221383074, -0.1653460151088899, -0.215828511806336, 0.08946323701396923, -0.4078598807912752)\n",
      "DenseVector(-0.08782370455064585, 0.10564624110268196, -0.0, 0.07510113332683303, -0.1996286862010873, 0.2970732349905121, 0.0, -0.31941200658766733, 0.2208123661367391, -0.16985809731390755, -0.2163531190286051, 0.08972536379239753, -0.40783636089117103)\n",
      "DenseVector(-0.0889606004677634, 0.10665125905152666, -0.0, 0.0750815227293543, -0.2010367307006747, 0.2964283044605351, 0.0, -0.3213551437794991, 0.22626207989372324, -0.17398686447478048, -0.21684427666520759, 0.0899501777884626, -0.40778991028010964)\n",
      "DenseVector(-0.09002817468424508, 0.10757650696618996, -0.0, 0.07506763276853036, -0.20240758020290803, 0.29584096510594854, 0.0, -0.32316498721101594, 0.2312884244677457, -0.17775852546315288, -0.2173064648519786, 0.09014826900646246, -0.4077178562815131)\n",
      "DenseVector(-0.09102090810018088, 0.10841998233944114, 0.0, 0.07505821942113974, -0.20372651845800982, 0.29531177277741677, 0.0, -0.32483835907836367, 0.23591095900409403, -0.18119907127550045, -0.21774191304620827, 0.09032617902424583, -0.4076241896320751)\n",
      "DenseVector(-0.09193771548661843, 0.10918289630791374, 0.0, 0.07505220418474949, -0.2049814700701884, 0.2948375896345066, 0.0, -0.32637592446805075, 0.2401520279049414, -0.18433385318115625, -0.21815166516732631, 0.0904879073314193, -0.4075151010058347)\n",
      "DenseVector(-0.09278031968095907, 0.10986918672666326, 0.0, 0.07504872669659554, -0.2061637507771978, 0.29441359267703443, 0.0, -0.3277816937255964, 0.24403533076213288, -0.18718731052469803, -0.21853613977169986, 0.09063596495805698, -0.40739686326914143)\n",
      "DenseVector(-0.09355207360625199, 0.11048453311141211, 0.0, 0.07504710852160819, -0.207268143302426, 0.2940344744221821, 0.0, -0.3290621874108665, 0.24758504686408955, -0.189782763868032, -0.21889553184487248, 0.09077199465822415, -0.40727489914373516)\n",
      "DenseVector(-0.0942572005517599, 0.1110354601723538, 5.836852536052271E-5, 0.07504314661022038, -0.20833676303411688, 0.29370489914541265, 0.0, -0.33022062612589387, 0.25082203435175104, -0.1921464781539232, -0.219236459024959, 0.09089422249741802, -0.40714910514703007)\n",
      "DenseVector(-0.09489839717921757, 0.11152835626304507, 4.315834956048277E-4, 0.07502343904752619, -0.2095565880574073, 0.29346377986685096, 0.0, -0.3312395356986861, 0.25375552973507093, -0.19432181226381212, -0.21958801731683525, 0.09099240116687808, -0.4070029573609181)\n",
      "DenseVector(-0.09547000588136928, 0.11196774830318343, 0.0010163907883561074, 0.07500753461138435, -0.21081116231029962, 0.2932916354276255, 0.0, -0.33211245740539025, 0.25641418505708874, -0.19634266736644052, -0.2199421688952684, 0.09108112846927624, -0.4068454710857542)\n",
      "DenseVector(-0.0959704991942196, 0.11235758507043875, 0.0017368576324170442, 0.07499188933372611, -0.21202805708345737, 0.2931711214903932, 0.0, -0.33284793185407496, 0.25883014899486284, -0.19823455815265903, -0.22028903875485153, 0.09116791254644205, -0.40669136013149637)\n",
      "DenseVector(-0.0964052226036612, 0.11270385524496727, 0.002538231968112969, 0.07497417314464803, -0.2131654140074479, 0.29308594760179985, 0.0, -0.3334611315171219, 0.26103461406669587, -0.20001632392262128, -0.22062100461234344, 0.09125490247060226, -0.40655288208032025)\n",
      "DenseVector(-0.09678282754695448, 0.11301433419406916, 0.003380202264592303, 0.07495335530440995, -0.21420185787633422, 0.2930223236912999, 0.0, -0.33397016530477497, 0.2630557308708137, -0.20170166175409576, -0.22093284327103713, 0.09134182880980139, -0.4064377516591946)\n"
     ]
    },
    {
     "name": "stdout",
     "output_type": "stream",
     "text": [
      "DenseVector(-0.09711268708587177, 0.1132969735482336, 0.004232659949208634, 0.0749292487249807, -0.21512965347029878, 0.2929696931703941, 0.0, -0.3343936706054341, 0.26491792509732076, -0.203300324371453, -0.22122141002971596, 0.09142758991704412, -0.4063494058662308)\n",
      "DenseVector(-0.0974035686827813, 0.11355874560785006, 0.005073216657513856, 0.07490214399630676, -0.2159499468747488, 0.2929206496559891, 0.0, -0.33474916128945265, 0.2666418530432445, -0.20481906873340763, -0.22148528086368255, 0.09151096809805384, -0.4062879878929434)\n",
      "DenseVector(-0.09766307527094346, 0.1138051019950478, 0.005885641919779411, 0.0748725796977354, -0.21666937902342928, 0.2928704719405629, 0.0, -0.33505203293664687, 0.26824463627699796, -0.2062624324472466, -0.22172439076277936, 0.09159092018813263, -0.40625141269234954)\n",
      "DenseVector(-0.09789748765674001, 0.1140398791752411, 0.006658732267875472, 0.0748412015756204, -0.2172976573963077, 0.29281655194049383, 0.0, -0.3353151032401045, 0.2697402211568677, -0.20763337930583442, -0.22193967949682275, 0.09166667205142932, -0.4062362871194547)\n",
      "DenseVector(-0.09811180464723673, 0.1142654636955597, 0.007385380643862256, 0.07480867490465745, -0.2178458345444002, 0.2927578438638553, 0.0, -0.33554854119994326, 0.27113979428691165, -0.2089338326104097, -0.22213276440500235, 0.09173772472987379, -0.40623862355678075)\n",
      "DenseVector(-0.09830987527494349, 0.11448307729266873, 0.008061756286486317, 0.07477563003448522, -0.21832512525936937, 0.29269438566449035, 0.0, -0.3357600484737133, 0.2724522171381591, -0.21016510538150457, -0.22230565796603702, 0.0918038228058478, -0.40625435183668523)\n",
      "DenseVector(-0.09849456839596815, 0.11469309208846953, 0.008686570724201278, 0.07474262998673062, -0.21874613769905393, 0.29262690781419676, 0.0, -0.3359551823295426, 0.2736844550064014, -0.2113282345356276, -0.22246054017098021, 0.09186490922027135, -0.40627965828904933)\n",
      "DenseVector(-0.0986679505937606, 0.11489532445943781, 0.009260430063470456, 0.07471015338066356, -0.21911841919371006, 0.292556528193333, 5.304988831955577E-5, -0.3360980637646599, 0.2748374120764053, -0.21242573218332694, -0.22260142074313555, 0.09192100290070693, -0.4063197131082493)\n",
      "DenseVector(-0.09882698341891781, 0.11508790779487611, 0.00978623957401437, 0.07467729798382607, -0.2194525747589874, 0.29248305048187956, 1.4079150892197263E-4, -0.33621088405246796, 0.2759176971283575, -0.21345926697189485, -0.22273022693954433, 0.09197239285508328, -0.40637409785742734)\n",
      "DenseVector(-0.09897375913913226, 0.11527198604451991, 0.010267798714059544, 0.07464416875292185, -0.21975672022534234, 0.29240553917407625, 2.495846543100148E-4, -0.3363069727413046, 0.2769317234743711, -0.2144303870829101, -0.22284832657061057, 0.09201896659890169, -0.4064399601114133)\n",
      "DenseVector(-0.09911093256098492, 0.11544867373532607, 0.010708276092242263, 0.07461138592464263, -0.22003680567661543, 0.2923243336344616, 3.7008851893534155E-4, -0.3363941802303061, 0.27788455692261366, -0.2153406809923833, -0.22295675036652507, 0.09206069815308866, -0.4065135478271969)\n",
      "DenseVector(-0.0992405331968311, 0.11561845835896561, 0.011110338753712245, 0.07457951859975481, -0.22029721477668213, 0.2922406400092164, 4.958788473256811E-4, -0.33647702023521164, 0.2787799755651107, -0.216191838322913, -0.2230563985353068, 0.09209775841207293, -0.4065911148023604)\n",
      "DenseVector(-0.09936382109884373, 0.11578125496462907, 0.011476506444971014, 0.07454899283875902, -0.2205412011667464, 0.2921560219680804, 6.224373887050902E-4, -0.3365579316812902, 0.27962082669522614, -0.21698568544264904, -0.22314812898566552, 0.09213048057759032, -0.4066693925601948)\n",
      "DenseVector(-0.09948145272669108, 0.11593663298417277, 0.011809359288542896, 0.07452009624634938, -0.22077115976734998, 0.2920720584360382, 7.465326843484324E-4, -0.3366380356946268, 0.28040937024398677, -0.21772420897746428, -0.22323276409672135, 0.09215929250560641, -0.4067457783541844)\n",
      "DenseVector(-0.09959369067301041, 0.11608403512634119, 0.012111582190285226, 0.07449300295497027, -0.22098880366965845, 0.29199015528124184, 8.658593740869158E-4, -0.33671761356329294, 0.2811475367391834, -0.21840956638927056, -0.22331106680122625, 0.09218465675119605, -0.40681835887397777)\n",
      "DenseVector(-0.09970057341156946, 0.11622293636609551, 0.01238591199257711, 0.07446779895119676, -0.22119529868516477, 0.29191146043738136, 9.788219224167035E-4, -0.33679642786608577, 0.28183710392927175, -0.21904408192801436, -0.22338371583083186, 0.09220702888343557, -0.40688585042870307)\n",
      "DenseVector(-0.09980203281483425, 0.11635293986809934, 0.012635049304393652, 0.07444450311335331, -0.22139138131134042, 0.2918368405260026, 0.0010843911059763563, -0.3368739486513069, 0.28247981206719963, -0.21963022856014672, -0.223451291838172, 0.09222683268091782, -0.4069475038356524)\n",
      "DenseVector(-0.09989796941527077, 0.11647382258469452, 0.012861573450966368, 0.0744230839466416, -0.22157746819911964, 0.29176689135839823, 0.0011819951806679272, -0.3369495154638178, 0.28307743542597413, -0.2201705985849938, -0.22351427587617076, 0.0922444475852274, -0.4070030002272316)\n",
      "DenseVector(-0.09998829822901464, 0.11658554573868363, 0.013067878232397497, 0.07440347300935304, -0.22175375658131494, 0.29170196581631275, 0.001271428310141994, -0.3370224515873428, 0.2836318222657105, -0.22066786673838765, -0.2235730573909865, 0.09226020406937477, -0.40705235094075015)\n",
      "DenseVector(-0.10007297508281737, 0.1166882431308616, 0.013256132929432781, 0.07438557590001993, -0.22192031244878535, 0.29164220965010546, 0.0013527696903957458, -0.33709214075374433, 0.2841449114950806, -0.22112474973190588, -0.22362794787741097, 0.0922743837819684, -0.40709580757694197)\n",
      "DenseVector(-0.10015201002617151, 0.11678219692747534, 0.01342826617429358, 0.07436928134351888, -0.2220771436244808, 0.29158759976598053, 0.0014263116742022194, -0.3371580740851802, 0.28461873202064814, -0.22154396571466253, -0.22367919682613743, 0.09228722244146413, -0.40713378467059963)\n",
      "DenseVector(-0.10022547200357358, 0.11686780764908643, 0.013585967646008903, 0.07435446866388297, -0.22222425636227672, 0.2915379817961026, 0.0014924969158081525, -0.3372198738784807, 0.28505538961303833, -0.22192819638595312, -0.22372700753444186, 0.09229891422955745, -0.4071667955626872)\n",
      "DenseVector(-0.10029348752683453, 0.1169455628285739, 0.013730702152682189, 0.07434101380403052, -0.22236169566273006, 0.2914931050017579, 0.001551864832973798, -0.33727730004078754, 0.2854570454287569, -0.222280053653786, -0.22377155127655918, 0.09230961690747436, -0.4071954010836231)\n",
      "DenseVector(-0.10035623529294284, 0.11701600717840528, 0.013863731296718513, 0.07432879401240329, -0.2224895707181582, 0.29145265333663045, 0.0016050074225913604, -0.33733024421286906, 0.2858258897575563, -0.22260205195882007, -0.22381297906558997, 0.092319457156097, -0.40722017010386974)\n",
      "DenseVector(-0.1004139382374321, 0.11707971595819668, 0.013986138899935316, 0.07431769132051345, -0.22260806766675126, 0.29141627203566556, 0.001652534087438893, -0.33737871581215145, 0.2861641139787923, -0.22289658673082077, -0.22385143075937916, 0.09232853580660642, -0.4072416506827379)\n"
     ]
    },
    {
     "data": {
      "text/plain": [
       "null"
      ]
     },
     "execution_count": 289,
     "metadata": {},
     "output_type": "execute_result"
    }
   ],
   "source": [
    "EnetCovUpdates.run"
   ]
  },
  {
   "cell_type": "code",
   "execution_count": 286,
   "metadata": {},
   "outputs": [
    {
     "data": {
      "text/plain": [
       "DenseVector(-0.1004139382374321, 0.11707971595819668, 0.013986138899935316, 0.07431769132051345, -0.22260806766675126, 0.29141627203566556, 0.001652534087438893, -0.33737871581215145, 0.2861641139787923, -0.22289658673082077, -0.22385143075937916, 0.09232853580660642, -0.4072416506827379)"
      ]
     },
     "execution_count": 286,
     "metadata": {},
     "output_type": "execute_result"
    }
   ],
   "source": [
    "beta"
   ]
  },
  {
   "cell_type": "code",
   "execution_count": 187,
   "metadata": {},
   "outputs": [
    {
     "name": "stdout",
     "output_type": "stream",
     "text": [
      "53 ms ± 5 ms per loop (mean ± std. dev. of 3 run, 10 loop each)\n"
     ]
    }
   ],
   "source": [
    "%%timeit\n",
    "val temp = DenseVector.zeros[Double](100)"
   ]
  },
  {
   "cell_type": "code",
   "execution_count": null,
   "metadata": {},
   "outputs": [],
   "source": []
  },
  {
   "cell_type": "code",
   "execution_count": 188,
   "metadata": {},
   "outputs": [
    {
     "ename": "<console>",
     "evalue": "116",
     "output_type": "error",
     "traceback": [
      "\u001b[1;31m<console>:116: error: not found: value nfeatures\u001b[0;0m",
      "\u001b[1;31m       val temp = DenseVector.zeros[Double](nfeatures)\u001b[0;0m",
      "\u001b[1;31m                                            ^\u001b[0;0m"
     ]
    }
   ],
   "source": [
    "val temp = DenseVector.zeros[Double](nfeatures)\n",
    "// temp(0) = 1d\n",
    "// temp(0) -= 10d\n",
    "// temp(0) += 3d"
   ]
  },
  {
   "cell_type": "code",
   "execution_count": 144,
   "metadata": {},
   "outputs": [
    {
     "data": {
      "text/plain": [
       "DenseVector(-6.0, 0.0, 0.0, 0.0, 0.0, 0.0, 0.0, 0.0, 0.0, 0.0, 0.0, 0.0, 0.0, 0.0, 0.0, 0.0, 0.0, 0.0, 0.0, 0.0, 0.0, 0.0, 0.0, 0.0, 0.0, 0.0, 0.0, 0.0, 0.0, 0.0, 0.0, 0.0, 0.0, 0.0, 0.0, 0.0, 0.0, 0.0, 0.0, 0.0, 0.0, 0.0, 0.0, 0.0, 0.0, 0.0, 0.0, 0.0, 0.0, 0.0, 0.0, 0.0, 0.0, 0.0, 0.0, 0.0, 0.0, 0.0, 0.0, 0.0, 0.0, 0.0, 0.0, 0.0, 0.0, 0.0, 0.0, 0.0, 0.0, 0.0, 0.0, 0.0, 0.0, 0.0, 0.0, 0.0, 0.0, 0.0, 0.0, 0.0, 0.0, 0.0, 0.0, 0.0, 0.0, 0.0, 0.0, 0.0, 0.0, 0.0, 0.0, 0.0, 0.0, 0.0, 0.0, 0.0, 0.0, 0.0, 0.0, 0.0)"
      ]
     },
     "execution_count": 144,
     "metadata": {},
     "output_type": "execute_result"
    }
   ],
   "source": [
    "temp\n",
    "val beta = temp.copy"
   ]
  },
  {
   "cell_type": "code",
   "execution_count": 160,
   "metadata": {},
   "outputs": [
    {
     "data": {
      "text/plain": [
       "$line964.$read$$iw$$iw$$iw$$iw$$iw$$iw$$iw$$iw$$iw$$iw$$iw$$iw$$iw$$iw$$iw$$iw$$iw$$iw$$iw$$iw$$iw$$iw$$iw$$iw$$iw$$iw$$iw$$iw$$iw$$iw$$iw$$iw$$iw$$iw$$iw$$iw$$iw$test$@3909df57"
      ]
     },
     "execution_count": 160,
     "metadata": {},
     "output_type": "execute_result"
    }
   ],
   "source": [
    "object test {\n",
    "    def exec = {\n",
    "temp(i) -= covmat(i, on)*beta(on)\n",
    "temp(i) += beta(i)    \n",
    "beta(i) = softThresh(temp(i), alpha*lambda) / ( 1 + lambda*(1 - alpha))\n",
    "    }\n",
    "}"
   ]
  },
  {
   "cell_type": "code",
   "execution_count": 158,
   "metadata": {},
   "outputs": [
    {
     "data": {
      "text/plain": [
       "null"
      ]
     },
     "execution_count": 158,
     "metadata": {},
     "output_type": "execute_result"
    }
   ],
   "source": [
    "val alpha = 1.0\n",
    "val lambda = 0.2\n",
    "\n",
    "val i = 10\n",
    "\n",
    "\n",
    "val t1 = xTy(i)\n",
    "val t2 = covmat(i, on)*beta(on)\n",
    "val t3 = beta(i)    \n",
    "beta(i) = softThresh(t1 - t2 + t3, alpha*lambda) / ( 1 + lambda*(1 - alpha))"
   ]
  },
  {
   "cell_type": "code",
   "execution_count": 161,
   "metadata": {},
   "outputs": [
    {
     "name": "stdout",
     "output_type": "stream",
     "text": [
      "33 ms ± 2 ms per loop (mean ± std. dev. of 3 run, 10 loop each)\n"
     ]
    }
   ],
   "source": [
    "%%timeit \n",
    "test.exec"
   ]
  },
  {
   "cell_type": "code",
   "execution_count": 166,
   "metadata": {},
   "outputs": [
    {
     "name": "stdout",
     "output_type": "stream",
     "text": [
      "45 ms ± 7 ms per loop (mean ± std. dev. of 3 run, 10 loop each)\n"
     ]
    }
   ],
   "source": [
    "%%timeit\n",
    "test.exec"
   ]
  },
  {
   "cell_type": "code",
   "execution_count": 167,
   "metadata": {},
   "outputs": [
    {
     "name": "stdout",
     "output_type": "stream",
     "text": [
      "72 ms ± 11 ms per loop (mean ± std. dev. of 3 run, 10 loop each)\n"
     ]
    }
   ],
   "source": [
    "%%timeit\n",
    "val t1 = xTy(i)\n",
    "val t2 = covmat(i, on)*beta(on)\n",
    "val t3 = beta(i)    \n",
    "beta(i) = softThresh(t1 - t2 + t3 , alpha*lambda) / ( 1 + lambda*(1 - alpha))"
   ]
  },
  {
   "cell_type": "code",
   "execution_count": 168,
   "metadata": {},
   "outputs": [
    {
     "ename": "<console>",
     "evalue": "125",
     "output_type": "error",
     "traceback": [
      "\u001b[1;31m<console>:125: error: value getInstances is not a member of object com.github.fommil.netlib.BLAS\u001b[0;0m",
      "\u001b[1;31m       import com.github.fommil.netlib.BLAS.{getInstances => blas}\u001b[0;0m",
      "\u001b[1;31m              ^\u001b[0;0m"
     ]
    }
   ],
   "source": [
    "import com.github.fommil.netlib.BLAS.{getInstances => blas}"
   ]
  },
  {
   "cell_type": "code",
   "execution_count": null,
   "metadata": {},
   "outputs": [],
   "source": []
  },
  {
   "cell_type": "code",
   "execution_count": 163,
   "metadata": {},
   "outputs": [
    {
     "data": {
      "text/plain": [
       "0.0"
      ]
     },
     "execution_count": 163,
     "metadata": {},
     "output_type": "execute_result"
    }
   ],
   "source": [
    "var (t1,t2,t3) = (0d,0d,0d)"
   ]
  },
  {
   "cell_type": "code",
   "execution_count": 164,
   "metadata": {},
   "outputs": [
    {
     "name": "stdout",
     "output_type": "stream",
     "text": [
      "86 ms ± 9 ms per loop (mean ± std. dev. of 3 run, 10 loop each)\n"
     ]
    }
   ],
   "source": [
    "%%timeit\n",
    "t1 = xTy(i)\n",
    "t2 = covmat(i, on)*beta(on)\n",
    "t3 = beta(i)    \n",
    "beta(i) = softThresh(xTy(i) - covmat(i, on)*beta(on) + beta(i) , alpha*lambda) / ( 1 + lambda*(1 - alpha))"
   ]
  },
  {
   "cell_type": "code",
   "execution_count": 165,
   "metadata": {},
   "outputs": [
    {
     "name": "stdout",
     "output_type": "stream",
     "text": [
      "55 ms ± 4 ms per loop (mean ± std. dev. of 3 run, 10 loop each)\n"
     ]
    }
   ],
   "source": [
    "%%timeit \n",
    "beta(i) = softThresh(xTy(i) - covmat(i, on)*beta(on) + beta(i) , alpha*lambda) / ( 1 + lambda*(1 - alpha))"
   ]
  },
  {
   "cell_type": "code",
   "execution_count": 106,
   "metadata": {},
   "outputs": [
    {
     "name": "stdout",
     "output_type": "stream",
     "text": [
      "57 ms ± 8 ms per loop (mean ± std. dev. of 3 run, 10 loop each)\n"
     ]
    }
   ],
   "source": [
    "%%timeit \n",
    "temp := bt"
   ]
  },
  {
   "cell_type": "code",
   "execution_count": 48,
   "metadata": {},
   "outputs": [
    {
     "data": {
      "text/plain": [
       "import scala.util.control.Breaks.{break, breakable}\r\n",
       "import scala.util.control.Breaks\n"
      ]
     },
     "execution_count": 48,
     "metadata": {},
     "output_type": "execute_result"
    }
   ],
   "source": [
    "import scala.util.control.Breaks.{break, breakable}\n",
    "import scala.util.control.Breaks"
   ]
  },
  {
   "cell_type": "code",
   "execution_count": 53,
   "metadata": {},
   "outputs": [
    {
     "name": "stdout",
     "output_type": "stream",
     "text": [
      "0\n",
      "1\n",
      "2\n",
      "3\n",
      "4\n",
      "5\n",
      "6\n",
      "7\n",
      "8\n",
      "9\n",
      "10\n",
      "11\n",
      "12\n",
      "13\n",
      "14\n",
      "15\n",
      "16\n",
      "17\n",
      "18\n",
      "19\n",
      "20\n",
      "breaking\n"
     ]
    },
    {
     "data": {
      "text/plain": [
       "null"
      ]
     },
     "execution_count": 53,
     "metadata": {},
     "output_type": "execute_result"
    }
   ],
   "source": [
    "val loop1 = new Breaks()\n",
    "\n",
    "loop1.breakable { \n",
    "    for(i <- 0 to 100) { \n",
    "        println(i)\n",
    "        if(i > 19) { \n",
    "            println(\"breaking\")\n",
    "            loop1.break\n",
    "        }\n",
    "    }\n",
    "}"
   ]
  },
  {
   "cell_type": "code",
   "execution_count": 45,
   "metadata": {},
   "outputs": [
    {
     "data": {
      "text/plain": [
       "996"
      ]
     },
     "execution_count": 45,
     "metadata": {},
     "output_type": "execute_result"
    }
   ],
   "source": [
    "on.activeSize"
   ]
  },
  {
   "cell_type": "code",
   "execution_count": null,
   "metadata": {},
   "outputs": [],
   "source": []
  },
  {
   "cell_type": "raw",
   "metadata": {},
   "source": []
  },
  {
   "cell_type": "code",
   "execution_count": 25,
   "metadata": {},
   "outputs": [
    {
     "data": {
      "text/plain": [
       "DenseVector(-0.10101707640737198, 0.11771520121545383, 0.015335200245437783, 0.07419883196905287, -0.22384802803846912, 0.2910564654888409, 0.002118638136348855, -0.33783634715626926, 0.28974905281236313, -0.2260316798263521, -0.2242712309134749, 0.0924322323192743, -0.40744693321494485)"
      ]
     },
     "execution_count": 25,
     "metadata": {},
     "output_type": "execute_result"
    }
   ],
   "source": [
    "inv(xs.t * xs)* xs.t * ys"
   ]
  },
  {
   "cell_type": "code",
   "execution_count": 115,
   "metadata": {},
   "outputs": [
    {
     "data": {
      "text/plain": [
       "null"
      ]
     },
     "execution_count": 115,
     "metadata": {},
     "output_type": "execute_result"
    }
   ],
   "source": [
    "for(i <- on.activeKeysIterator) { \n",
    "    temp(i) = xTy(i)\n",
    "    temp(i) -= covmat(i, on)*beta(on)\n",
    "    temp(i) += beta(i)    \n",
    "    beta(i) \n",
    "}\n"
   ]
  },
  {
   "cell_type": "code",
   "execution_count": 75,
   "metadata": {},
   "outputs": [
    {
     "data": {
      "text/plain": [
       "BitVector(1, 3, 5, 7, 11)"
      ]
     },
     "execution_count": 75,
     "metadata": {},
     "output_type": "execute_result"
    }
   ],
   "source": [
    "val on = DenseVector.fill(nfeatures){0d} >:> 0d\n",
    "on := xTy / nobs >:> alpha * lambda`a"
   ]
  },
  {
   "cell_type": "code",
   "execution_count": 89,
   "metadata": {},
   "outputs": [
    {
     "data": {
      "text/plain": [
       "DenseVector(-196.48213194492675, 0.0, 0.0, 0.0, 0.0, 0.0, 0.0, 0.0, 0.0, 0.0, 0.0, 0.0, 0.0)"
      ]
     },
     "execution_count": 89,
     "metadata": {},
     "output_type": "execute_result"
    }
   ],
   "source": [
    "val beta = DenseVector.zeros[Double](13)\n",
    "val temp = beta.copy\n",
    "temp(0) = xTy(0)\n",
    "//temp(on) := \n",
    "temp(0) -= covmat(0, on) * beta(on)\n",
    "temp(0) += beta(0)\n",
    "temp"
   ]
  },
  {
   "cell_type": "code",
   "execution_count": 69,
   "metadata": {},
   "outputs": [],
   "source": [
    "val n = 3\n",
    "val covMatSparse = new CSCMatrix.Builder[Double](n,n)\n",
    "for(i <- 0 until n) covMatSparse.add(i,i,1d)\n",
    "val covMat = DenseMatrix.eye[Double](n)\n",
    "OutputCell.HIDDEN"
   ]
  },
  {
   "cell_type": "code",
   "execution_count": 70,
   "metadata": {},
   "outputs": [
    {
     "name": "stdout",
     "output_type": "stream",
     "text": [
      "31 ms ± 4 ms per loop (mean ± std. dev. of 3 run, 10 loop each)\n"
     ]
    }
   ],
   "source": [
    "%%timeit\n",
    "covMat(1,1) = 10d"
   ]
  },
  {
   "cell_type": "code",
   "execution_count": 71,
   "metadata": {},
   "outputs": [
    {
     "name": "stdout",
     "output_type": "stream",
     "text": [
      "31 ms ± 5 ms per loop (mean ± std. dev. of 3 run, 10 loop each)\n"
     ]
    }
   ],
   "source": [
    "%%timeit\n",
    "covMatSparse.result(1,1) = 10d"
   ]
  },
  {
   "cell_type": "code",
   "execution_count": null,
   "metadata": {},
   "outputs": [],
   "source": []
  },
  {
   "cell_type": "code",
   "execution_count": 9,
   "metadata": {},
   "outputs": [
    {
     "data": {
      "text/plain": [
       "BitVector(0, 2)"
      ]
     },
     "execution_count": 9,
     "metadata": {},
     "output_type": "execute_result"
    }
   ],
   "source": [
    "val bv = BitVector(true, false, true)"
   ]
  },
  {
   "cell_type": "code",
   "execution_count": 11,
   "metadata": {},
   "outputs": [
    {
     "ename": "<console>",
     "evalue": "91",
     "output_type": "error",
     "traceback": [
      "\u001b[1;31m<console>:91: error: value fill is not a member of object breeze.linalg.BitVector\u001b[0;0m",
      "\u001b[1;31m       val onFeatures = BitVector.fill(10){false}\u001b[0;0m",
      "\u001b[1;31m                                  ^\u001b[0;0m"
     ]
    }
   ],
   "source": [
    "val onFeatures = BitVector.fill(10){false}"
   ]
  },
  {
   "cell_type": "code",
   "execution_count": 13,
   "metadata": {},
   "outputs": [
    {
     "data": {
      "text/plain": [
       "BitVector()"
      ]
     },
     "execution_count": 13,
     "metadata": {},
     "output_type": "execute_result"
    }
   ],
   "source": [
    "DenseVector.fill(10){0d} >:> 0d"
   ]
  },
  {
   "cell_type": "code",
   "execution_count": 10,
   "metadata": {},
   "outputs": [
    {
     "name": "stdout",
     "output_type": "stream",
     "text": [
      "0\n",
      "2\n"
     ]
    },
    {
     "data": {
      "text/plain": [
       "null"
      ]
     },
     "execution_count": 10,
     "metadata": {},
     "output_type": "execute_result"
    }
   ],
   "source": [
    "bv.activeKeysIterator.foreach(println)"
   ]
  },
  {
   "cell_type": "code",
   "execution_count": null,
   "metadata": {},
   "outputs": [],
   "source": []
  }
 ],
 "metadata": {
  "kernelspec": {
   "display_name": "Scala",
   "language": "scala",
   "name": "scala"
  },
  "language_info": {
   "codemirror_mode": "text/x-scala",
   "file_extension": ".scala",
   "mimetype": "",
   "name": "Scala",
   "nbconverter_exporter": "",
   "version": "2.11.12"
  },
  "toc": {
   "base_numbering": 1,
   "nav_menu": {},
   "number_sections": false,
   "sideBar": false,
   "skip_h1_title": false,
   "title_cell": "Table of Contents",
   "title_sidebar": "Contents",
   "toc_cell": false,
   "toc_position": {},
   "toc_section_display": false,
   "toc_window_display": false
  }
 },
 "nbformat": 4,
 "nbformat_minor": 2
}
