{
 "cells": [
  {
   "cell_type": "code",
   "execution_count": 2,
   "metadata": {},
   "outputs": [],
   "source": [
    "import numpy as np\n",
    "import pandas as pd\n",
    "from scipy.stats import norm"
   ]
  },
  {
   "cell_type": "markdown",
   "metadata": {},
   "source": [
    "Data taken from table 1 on page 48 of JP Morgan paper\n",
    "\n",
    "So this is \n",
    "1. The smoothed historical average transition matrix\n",
    "2. bins corresponding o smoothed historical average transition matrix"
   ]
  },
  {
   "cell_type": "code",
   "execution_count": 5,
   "metadata": {},
   "outputs": [],
   "source": [
    "## smoothed observed transition matrix.\n",
    "P = np.array([[91.13, 8, .7, .1, .05, .01, .01, .01 ]\n",
    "             ,[.7, 91.03, 7.47, .6, .1, .07, .02, .01]\n",
    "             ,[.1, 2.34, 91.54, 5.08, .61, 0.26, 0.01, 0.05]\n",
    "             ,[0.02,0.3,5.65,87.98,4.75,1.05,0.1,0.15]\n",
    "             ,[0.01,0.11,.55,7.77,81.77,7.95,0.85,1]\n",
    "             ,[0,0.05,0.25,0.45,7,83.5,3.75,5]\n",
    "             ,[0,0.01,.1,0.3,2.59,12,65,20]\n",
    "             #,[0,0,0,0,0,0,0,100]\n",
    "             ])\n",
    "\n",
    "## predicted based on rho = 0.0163, z = -0.89\n",
    "F = np.array([[89.35,9.54,0.89,0.13,0.07,0.01,0.01,0.01]\n",
    "             ,[0.48,89.56,8.93,0.77,0.13,0.09,0.03,0.01]\n",
    "             ,[0.06,1.72,90.88,6.14,0.78,0.34,0.01,0.07]\n",
    "             ,[0.01,0.20,4.39,88.03,5.72,1.33,0.13,0.20]\n",
    "             ,[0.00,0.07,0.38,6.19,81.63,9.39,1.06,1.29]\n",
    "             ,[0.00,0.03,0.17,0.32,5.56,83.41,4.38,6.14]\n",
    "             ,[0.00,0.01,0.06,0.20,1.94,10.09,64.53,23.16]\n",
    "             #,[0,0,0,0,0,0,0,100]\n",
    "             ])\n",
    "\n",
    "## bins \"based\" on smooth transition matrix\n",
    "interval_matrix = np.array([[np.Inf, -1.35,-2.38,-2.93,-3.19,-3.54,-3.72,-3.89,-np.Inf]\n",
    ",[np.Inf,2.46,-1.39,-2.41,-2.88,-3.09,-3.43,-3.72,-np.Inf ]\n",
    ",[np.Inf,3.1,1.97,-1.55,-2.35,-2.73,-3.24,-3.29 ,-np.Inf ]\n",
    ",[np.Inf,3.5,2.73,1.56,-1.55,-2.23,-2.81,-2.97 ,-np.Inf ]\n",
    ",[np.Inf,3.89,3.05,2.48,1.38,-1.29,-2.09,-2.33 ,-np.Inf ]\n",
    ",[np.Inf,4.11,3.29,2.75,2.43,1.42,-1.36,-1.64 ,-np.Inf ]\n",
    ",[np.Inf,4.27,3.72,3.06,2.64,1.88,1.04,-0.84 ,-np.Inf ]\n",
    "])\n",
    "\n",
    "n = np.array([ 85,220,480,298,168,161,16])"
   ]
  },
  {
   "cell_type": "code",
   "execution_count": 6,
   "metadata": {},
   "outputs": [],
   "source": [
    "PN = (P / P.sum(axis=1)[:, np.newaxis]) "
   ]
  },
  {
   "cell_type": "code",
   "execution_count": 7,
   "metadata": {},
   "outputs": [
    {
     "data": {
      "text/html": [
       "<div>\n",
       "<style scoped>\n",
       "    .dataframe tbody tr th:only-of-type {\n",
       "        vertical-align: middle;\n",
       "    }\n",
       "\n",
       "    .dataframe tbody tr th {\n",
       "        vertical-align: top;\n",
       "    }\n",
       "\n",
       "    .dataframe thead th {\n",
       "        text-align: right;\n",
       "    }\n",
       "</style>\n",
       "<table border=\"1\" class=\"dataframe\">\n",
       "  <thead>\n",
       "    <tr style=\"text-align: right;\">\n",
       "      <th></th>\n",
       "      <th>0</th>\n",
       "      <th>1</th>\n",
       "      <th>2</th>\n",
       "      <th>3</th>\n",
       "      <th>4</th>\n",
       "      <th>5</th>\n",
       "      <th>6</th>\n",
       "      <th>7</th>\n",
       "    </tr>\n",
       "  </thead>\n",
       "  <tbody>\n",
       "    <tr>\n",
       "      <th>0</th>\n",
       "      <td>0.911209</td>\n",
       "      <td>0.079992</td>\n",
       "      <td>0.006999</td>\n",
       "      <td>0.001000</td>\n",
       "      <td>0.000500</td>\n",
       "      <td>0.000100</td>\n",
       "      <td>0.000100</td>\n",
       "      <td>0.000100</td>\n",
       "    </tr>\n",
       "    <tr>\n",
       "      <th>1</th>\n",
       "      <td>0.007000</td>\n",
       "      <td>0.910300</td>\n",
       "      <td>0.074700</td>\n",
       "      <td>0.006000</td>\n",
       "      <td>0.001000</td>\n",
       "      <td>0.000700</td>\n",
       "      <td>0.000200</td>\n",
       "      <td>0.000100</td>\n",
       "    </tr>\n",
       "    <tr>\n",
       "      <th>2</th>\n",
       "      <td>0.001000</td>\n",
       "      <td>0.023402</td>\n",
       "      <td>0.915492</td>\n",
       "      <td>0.050805</td>\n",
       "      <td>0.006101</td>\n",
       "      <td>0.002600</td>\n",
       "      <td>0.000100</td>\n",
       "      <td>0.000500</td>\n",
       "    </tr>\n",
       "    <tr>\n",
       "      <th>3</th>\n",
       "      <td>0.000200</td>\n",
       "      <td>0.003000</td>\n",
       "      <td>0.056500</td>\n",
       "      <td>0.879800</td>\n",
       "      <td>0.047500</td>\n",
       "      <td>0.010500</td>\n",
       "      <td>0.001000</td>\n",
       "      <td>0.001500</td>\n",
       "    </tr>\n",
       "    <tr>\n",
       "      <th>4</th>\n",
       "      <td>0.000100</td>\n",
       "      <td>0.001100</td>\n",
       "      <td>0.005499</td>\n",
       "      <td>0.077692</td>\n",
       "      <td>0.817618</td>\n",
       "      <td>0.079492</td>\n",
       "      <td>0.008499</td>\n",
       "      <td>0.009999</td>\n",
       "    </tr>\n",
       "    <tr>\n",
       "      <th>5</th>\n",
       "      <td>0.000000</td>\n",
       "      <td>0.000500</td>\n",
       "      <td>0.002500</td>\n",
       "      <td>0.004500</td>\n",
       "      <td>0.070000</td>\n",
       "      <td>0.835000</td>\n",
       "      <td>0.037500</td>\n",
       "      <td>0.050000</td>\n",
       "    </tr>\n",
       "    <tr>\n",
       "      <th>6</th>\n",
       "      <td>0.000000</td>\n",
       "      <td>0.000100</td>\n",
       "      <td>0.001000</td>\n",
       "      <td>0.003000</td>\n",
       "      <td>0.025900</td>\n",
       "      <td>0.120000</td>\n",
       "      <td>0.650000</td>\n",
       "      <td>0.200000</td>\n",
       "    </tr>\n",
       "  </tbody>\n",
       "</table>\n",
       "</div>"
      ],
      "text/plain": [
       "          0         1         2         3         4         5         6  \\\n",
       "0  0.911209  0.079992  0.006999  0.001000  0.000500  0.000100  0.000100   \n",
       "1  0.007000  0.910300  0.074700  0.006000  0.001000  0.000700  0.000200   \n",
       "2  0.001000  0.023402  0.915492  0.050805  0.006101  0.002600  0.000100   \n",
       "3  0.000200  0.003000  0.056500  0.879800  0.047500  0.010500  0.001000   \n",
       "4  0.000100  0.001100  0.005499  0.077692  0.817618  0.079492  0.008499   \n",
       "5  0.000000  0.000500  0.002500  0.004500  0.070000  0.835000  0.037500   \n",
       "6  0.000000  0.000100  0.001000  0.003000  0.025900  0.120000  0.650000   \n",
       "\n",
       "          7  \n",
       "0  0.000100  \n",
       "1  0.000100  \n",
       "2  0.000500  \n",
       "3  0.001500  \n",
       "4  0.009999  \n",
       "5  0.050000  \n",
       "6  0.200000  "
      ]
     },
     "execution_count": 7,
     "metadata": {},
     "output_type": "execute_result"
    }
   ],
   "source": [
    "pd.DataFrame(PN)"
   ]
  },
  {
   "cell_type": "code",
   "execution_count": 100,
   "metadata": {},
   "outputs": [],
   "source": [
    "## working from the provided interval matrix to the transition matrix and back"
   ]
  },
  {
   "cell_type": "code",
   "execution_count": 8,
   "metadata": {},
   "outputs": [],
   "source": [
    "p = pd.DataFrame(norm.cdf(interval_matrix)).diff(axis=1)*-1\n",
    "p = p.values[:,1:]"
   ]
  },
  {
   "cell_type": "code",
   "execution_count": 9,
   "metadata": {},
   "outputs": [],
   "source": [
    "p_fliplr = np.fliplr(p)\n",
    "p_cumsum = np.fliplr(p_fliplr.cumsum(axis=1))"
   ]
  },
  {
   "cell_type": "code",
   "execution_count": 10,
   "metadata": {},
   "outputs": [],
   "source": [
    "my_interval_matrix = norm.ppf(p_cumsum)\n",
    "my_interval_matrix = np.concatenate( (my_interval_matrix, -np.Inf*np.ones([p.shape[0],1])),axis=1)"
   ]
  },
  {
   "cell_type": "code",
   "execution_count": 11,
   "metadata": {},
   "outputs": [
    {
     "data": {
      "text/plain": [
       "array([[  inf, -1.35, -2.38, -2.93, -3.19, -3.54, -3.72, -3.89,  -inf],\n",
       "       [  inf,  2.46, -1.39, -2.41, -2.88, -3.09, -3.43, -3.72,  -inf],\n",
       "       [  inf,  3.1 ,  1.97, -1.55, -2.35, -2.73, -3.24, -3.29,  -inf],\n",
       "       [  inf,  3.5 ,  2.73,  1.56, -1.55, -2.23, -2.81, -2.97,  -inf],\n",
       "       [  inf,  3.89,  3.05,  2.48,  1.38, -1.29, -2.09, -2.33,  -inf],\n",
       "       [  inf,  4.11,  3.29,  2.75,  2.43,  1.42, -1.36, -1.64,  -inf],\n",
       "       [  inf,  4.27,  3.72,  3.06,  2.64,  1.88,  1.04, -0.84,  -inf]])"
      ]
     },
     "execution_count": 11,
     "metadata": {},
     "output_type": "execute_result"
    }
   ],
   "source": [
    "my_interval_matrix"
   ]
  },
  {
   "cell_type": "code",
   "execution_count": 31,
   "metadata": {},
   "outputs": [
    {
     "name": "stdout",
     "output_type": "stream",
     "text": [
      "table 1\n",
      "\n",
      "The smoothed historical average transition matrix\n",
      "         0       1       2       3       4       5       6       7\n",
      "0  0.9113  0.0800  0.0070  0.0010  0.0005  0.0001  0.0001  0.0001\n",
      "1  0.0070  0.9103  0.0747  0.0060  0.0010  0.0007  0.0002  0.0001\n",
      "2  0.0010  0.0234  0.9154  0.0508  0.0061  0.0026  0.0001  0.0005\n",
      "3  0.0002  0.0030  0.0565  0.8798  0.0475  0.0105  0.0010  0.0015\n",
      "4  0.0001  0.0011  0.0055  0.0777  0.8177  0.0795  0.0085  0.0100\n",
      "5  0.0000  0.0005  0.0025  0.0045  0.0700  0.8350  0.0375  0.0500\n",
      "6  0.0000  0.0001  0.0010  0.0030  0.0259  0.1200  0.6500  0.2000 \n",
      "\n",
      "bins corresponding o smoothed historical average transition matrix\n",
      " [[  inf -1.35 -2.38 -2.93 -3.19 -3.54 -3.72 -3.89  -inf]\n",
      " [  inf  2.46 -1.39 -2.41 -2.88 -3.09 -3.43 -3.72  -inf]\n",
      " [  inf  3.1   1.97 -1.55 -2.35 -2.73 -3.24 -3.29  -inf]\n",
      " [  inf  3.5   2.73  1.56 -1.55 -2.23 -2.81 -2.97  -inf]\n",
      " [  inf  3.89  3.05  2.48  1.38 -1.29 -2.09 -2.33  -inf]\n",
      " [  inf  4.11  3.29  2.75  2.43  1.42 -1.36 -1.64  -inf]\n",
      " [  inf  4.27  3.72  3.06  2.64  1.88  1.04 -0.84  -inf]]\n"
     ]
    }
   ],
   "source": [
    "print(\"table 1\\n\")\n",
    "print(\"The smoothed historical average transition matrix\\n\",pd.DataFrame(P/100),\"\\n\")\n",
    "print(\"bins corresponding o smoothed historical average transition matrix\\n\",np.round(interval_matrix,3))"
   ]
  },
  {
   "cell_type": "code",
   "execution_count": 32,
   "metadata": {},
   "outputs": [
    {
     "name": "stdout",
     "output_type": "stream",
     "text": [
      "table 1\n",
      "\n",
      "The smoothed historical average transition matrix\n",
      "         0       1       2       3       4       5       6       7\n",
      "0  0.9115  0.0799  0.0070  0.0010  0.0005  0.0001  0.0000  0.0001\n",
      "1  0.0069  0.9108  0.0743  0.0060  0.0010  0.0007  0.0002  0.0001\n",
      "2  0.0010  0.0235  0.9150  0.0512  0.0062  0.0026  0.0001  0.0005\n",
      "3  0.0002  0.0029  0.0562  0.8800  0.0477  0.0104  0.0010  0.0015\n",
      "4  0.0001  0.0011  0.0054  0.0772  0.8177  0.0802  0.0084  0.0099\n",
      "5  0.0000  0.0005  0.0025  0.0046  0.0703  0.8353  0.0364  0.0505\n",
      "6  0.0000  0.0001  0.0010  0.0030  0.0259  0.1191  0.6504  0.2005 \n",
      "\n",
      "bins corresponding o smoothed historical average transition matrix\n",
      " [[  inf -1.35 -2.38 -2.93 -3.19 -3.54 -3.72 -3.89  -inf]\n",
      " [  inf  2.46 -1.39 -2.41 -2.88 -3.09 -3.43 -3.72  -inf]\n",
      " [  inf  3.1   1.97 -1.55 -2.35 -2.73 -3.24 -3.29  -inf]\n",
      " [  inf  3.5   2.73  1.56 -1.55 -2.23 -2.81 -2.97  -inf]\n",
      " [  inf  3.89  3.05  2.48  1.38 -1.29 -2.09 -2.33  -inf]\n",
      " [  inf  4.11  3.29  2.75  2.43  1.42 -1.36 -1.64  -inf]\n",
      " [  inf  4.27  3.72  3.06  2.64  1.88  1.04 -0.84  -inf]]\n"
     ]
    }
   ],
   "source": [
    "print(\"table 1\\n\")\n",
    "print(\"The smoothed historical average transition matrix\\n\",np.round(pd.DataFrame(p),4),\"\\n\")\n",
    "print(\"bins corresponding o smoothed historical average transition matrix\\n\",np.round(my_interval_matrix,3))"
   ]
  },
  {
   "cell_type": "code",
   "execution_count": 117,
   "metadata": {},
   "outputs": [],
   "source": [
    "## number of observations for each credit reating\n",
    "n = np.array([ 85,220,480,298,168,161,16])"
   ]
  },
  {
   "cell_type": "markdown",
   "metadata": {},
   "source": [
    "Below, I calculate my own bins corresponding o smoothed historical average transition matrix"
   ]
  },
  {
   "cell_type": "markdown",
   "metadata": {},
   "source": [
    "## The continuous credit-change indicator"
   ]
  },
  {
   "cell_type": "markdown",
   "metadata": {},
   "source": [
    "Binning of this indicator is based on the estimated transaction matrix.  "
   ]
  },
  {
   "cell_type": "markdown",
   "metadata": {},
   "source": [
    "My calculations"
   ]
  },
  {
   "cell_type": "code",
   "execution_count": 33,
   "metadata": {},
   "outputs": [
    {
     "name": "stdout",
     "output_type": "stream",
     "text": [
      "my calc for bins corresponding to smoothed historical average transition matrix\n",
      "[[  inf -1.35 -2.38 -2.93 -3.19 -3.54 -3.72 -3.89  -inf]\n",
      " [  inf  2.46 -1.39 -2.41 -2.88 -3.09 -3.43 -3.72  -inf]\n",
      " [  inf  3.1   1.97 -1.55 -2.35 -2.73 -3.24 -3.29  -inf]\n",
      " [  inf  3.5   2.73  1.56 -1.55 -2.23 -2.81 -2.97  -inf]\n",
      " [  inf  3.89  3.05  2.48  1.38 -1.29 -2.09 -2.33  -inf]\n",
      " [  inf  4.11  3.29  2.75  2.43  1.42 -1.36 -1.64  -inf]\n",
      " [  inf  4.27  3.72  3.06  2.64  1.88  1.04 -0.84  -inf]]\n"
     ]
    }
   ],
   "source": [
    "print(\"my calc for bins corresponding to smoothed historical average transition matrix\")\n",
    "print(np.round(my_interval_matrix,2))"
   ]
  },
  {
   "cell_type": "markdown",
   "metadata": {},
   "source": [
    "Directly transscribed from the paper"
   ]
  },
  {
   "cell_type": "code",
   "execution_count": 34,
   "metadata": {},
   "outputs": [
    {
     "name": "stdout",
     "output_type": "stream",
     "text": [
      "orig paper calc for bins corresponding to smoothed historical average transition matrix\n",
      "[[  inf -1.35 -2.38 -2.93 -3.19 -3.54 -3.72 -3.89  -inf]\n",
      " [  inf  2.46 -1.39 -2.41 -2.88 -3.09 -3.43 -3.72  -inf]\n",
      " [  inf  3.1   1.97 -1.55 -2.35 -2.73 -3.24 -3.29  -inf]\n",
      " [  inf  3.5   2.73  1.56 -1.55 -2.23 -2.81 -2.97  -inf]\n",
      " [  inf  3.89  3.05  2.48  1.38 -1.29 -2.09 -2.33  -inf]\n",
      " [  inf  4.11  3.29  2.75  2.43  1.42 -1.36 -1.64  -inf]\n",
      " [  inf  4.27  3.72  3.06  2.64  1.88  1.04 -0.84  -inf]]\n"
     ]
    }
   ],
   "source": [
    "print(\"orig paper calc for bins corresponding to smoothed historical average transition matrix\")\n",
    "print(interval_matrix)"
   ]
  },
  {
   "cell_type": "markdown",
   "metadata": {},
   "source": [
    "There are bound to be differences between due to rounding.  The primary function used to derive the bins has a very  steep slope which would imply that small changed in the input result in large changes in the output.  So when they are rounded the values they report, it has a significant impact on my binning.  "
   ]
  },
  {
   "cell_type": "code",
   "execution_count": 63,
   "metadata": {},
   "outputs": [
    {
     "data": {
      "text/plain": [
       "array([[ 0.33333333,  0.66666667],\n",
       "       [ 0.45454545,  0.54545455]])"
      ]
     },
     "execution_count": 63,
     "metadata": {},
     "output_type": "execute_result"
    }
   ],
   "source": [
    "A = np.array([[1,2], [5,6]])\n",
    "A / A.sum(axis=1)[:, np.newaxis]"
   ]
  },
  {
   "cell_type": "code",
   "execution_count": 62,
   "metadata": {},
   "outputs": [
    {
     "name": "stdout",
     "output_type": "stream",
     "text": [
      "-1.0 , 12.3185487563\n",
      "-0.777777777778 , 7.32697865176\n",
      "-0.555555555556 , 3.67941938672\n",
      "-0.333333333333 , 1.3419151178\n",
      "-0.111111111111 , 0.287806391639\n",
      "0.111111111111 , 0.498228356292\n",
      "0.333333333333 , 1.96261947452\n",
      "0.555555555556 , 4.67922015832\n",
      "0.777777777778 , 8.6555430828\n",
      "1.0 , 13.9088007393\n"
     ]
    }
   ],
   "source": [
    "for z in np.linspace(-1, 1, 10):\n",
    "    phat = fitted_probs(z, 0.0163, interval_matrix)\n",
    "    c = np.sum((p - phat)**2 / (phat * (1 - phat)) * n[:, np.newaxis]) \n",
    "    print(z,\",\", c)"
   ]
  },
  {
   "cell_type": "code",
   "execution_count": 66,
   "metadata": {},
   "outputs": [
    {
     "data": {
      "text/plain": [
       "array([[ 85],\n",
       "       [220],\n",
       "       [480],\n",
       "       [298],\n",
       "       [168],\n",
       "       [161],\n",
       "       [ 16]])"
      ]
     },
     "execution_count": 66,
     "metadata": {},
     "output_type": "execute_result"
    }
   ],
   "source": [
    "n[:, np.newaxis]"
   ]
  },
  {
   "cell_type": "code",
   "execution_count": null,
   "metadata": {},
   "outputs": [],
   "source": []
  },
  {
   "cell_type": "markdown",
   "metadata": {},
   "source": [
    "## Fitted Transition matrix vs Observed"
   ]
  },
  {
   "cell_type": "markdown",
   "metadata": {},
   "source": [
    "I'm not including the least squares fit (i haven't done it yet), but that part is the most straight forward in my opinion."
   ]
  },
  {
   "cell_type": "code",
   "execution_count": 35,
   "metadata": {},
   "outputs": [],
   "source": [
    "def fitted_probs(z, rho, interval_matrix):\n",
    "    temp = (interval_matrix - np.sqrt(rho)*z) / np.sqrt(1-rho)  \n",
    "    fit = np.zeros_like(interval_matrix)\n",
    "    for i in range(fit.shape[0]+1):\n",
    "        fit[:,i] = norm.cdf(temp[:,i]) - norm.cdf(temp[:,i+1])\n",
    "    return fit[:,0:-1]"
   ]
  },
  {
   "cell_type": "code",
   "execution_count": 40,
   "metadata": {},
   "outputs": [
    {
     "data": {
      "text/html": [
       "<div>\n",
       "<style scoped>\n",
       "    .dataframe tbody tr th:only-of-type {\n",
       "        vertical-align: middle;\n",
       "    }\n",
       "\n",
       "    .dataframe tbody tr th {\n",
       "        vertical-align: top;\n",
       "    }\n",
       "\n",
       "    .dataframe thead th {\n",
       "        text-align: right;\n",
       "    }\n",
       "</style>\n",
       "<table border=\"1\" class=\"dataframe\">\n",
       "  <thead>\n",
       "    <tr style=\"text-align: right;\">\n",
       "      <th></th>\n",
       "      <th>0</th>\n",
       "      <th>1</th>\n",
       "      <th>2</th>\n",
       "      <th>3</th>\n",
       "      <th>4</th>\n",
       "      <th>5</th>\n",
       "      <th>6</th>\n",
       "      <th>7</th>\n",
       "    </tr>\n",
       "  </thead>\n",
       "  <tbody>\n",
       "    <tr>\n",
       "      <th>0</th>\n",
       "      <td>0.893723</td>\n",
       "      <td>0.095123</td>\n",
       "      <td>0.008896</td>\n",
       "      <td>0.001297</td>\n",
       "      <td>0.000686</td>\n",
       "      <td>0.000137</td>\n",
       "      <td>0.000068</td>\n",
       "      <td>0.000070</td>\n",
       "    </tr>\n",
       "    <tr>\n",
       "      <th>1</th>\n",
       "      <td>0.004731</td>\n",
       "      <td>0.896205</td>\n",
       "      <td>0.088766</td>\n",
       "      <td>0.007656</td>\n",
       "      <td>0.001296</td>\n",
       "      <td>0.000932</td>\n",
       "      <td>0.000275</td>\n",
       "      <td>0.000138</td>\n",
       "    </tr>\n",
       "    <tr>\n",
       "      <th>2</th>\n",
       "      <td>0.000597</td>\n",
       "      <td>0.017231</td>\n",
       "      <td>0.908394</td>\n",
       "      <td>0.061705</td>\n",
       "      <td>0.007902</td>\n",
       "      <td>0.003360</td>\n",
       "      <td>0.000129</td>\n",
       "      <td>0.000681</td>\n",
       "    </tr>\n",
       "    <tr>\n",
       "      <th>3</th>\n",
       "      <td>0.000135</td>\n",
       "      <td>0.001937</td>\n",
       "      <td>0.043688</td>\n",
       "      <td>0.880463</td>\n",
       "      <td>0.057349</td>\n",
       "      <td>0.013150</td>\n",
       "      <td>0.001289</td>\n",
       "      <td>0.001989</td>\n",
       "    </tr>\n",
       "    <tr>\n",
       "      <th>4</th>\n",
       "      <td>0.000027</td>\n",
       "      <td>0.000685</td>\n",
       "      <td>0.003749</td>\n",
       "      <td>0.061579</td>\n",
       "      <td>0.816165</td>\n",
       "      <td>0.094647</td>\n",
       "      <td>0.010428</td>\n",
       "      <td>0.012720</td>\n",
       "    </tr>\n",
       "    <tr>\n",
       "      <th>5</th>\n",
       "      <td>0.000010</td>\n",
       "      <td>0.000290</td>\n",
       "      <td>0.001643</td>\n",
       "      <td>0.003221</td>\n",
       "      <td>0.055854</td>\n",
       "      <td>0.834543</td>\n",
       "      <td>0.042533</td>\n",
       "      <td>0.061906</td>\n",
       "    </tr>\n",
       "    <tr>\n",
       "      <th>6</th>\n",
       "      <td>0.000005</td>\n",
       "      <td>0.000051</td>\n",
       "      <td>0.000632</td>\n",
       "      <td>0.002061</td>\n",
       "      <td>0.019463</td>\n",
       "      <td>0.100174</td>\n",
       "      <td>0.645642</td>\n",
       "      <td>0.231973</td>\n",
       "    </tr>\n",
       "  </tbody>\n",
       "</table>\n",
       "</div>"
      ],
      "text/plain": [
       "          0         1         2         3         4         5         6  \\\n",
       "0  0.893723  0.095123  0.008896  0.001297  0.000686  0.000137  0.000068   \n",
       "1  0.004731  0.896205  0.088766  0.007656  0.001296  0.000932  0.000275   \n",
       "2  0.000597  0.017231  0.908394  0.061705  0.007902  0.003360  0.000129   \n",
       "3  0.000135  0.001937  0.043688  0.880463  0.057349  0.013150  0.001289   \n",
       "4  0.000027  0.000685  0.003749  0.061579  0.816165  0.094647  0.010428   \n",
       "5  0.000010  0.000290  0.001643  0.003221  0.055854  0.834543  0.042533   \n",
       "6  0.000005  0.000051  0.000632  0.002061  0.019463  0.100174  0.645642   \n",
       "\n",
       "          7  \n",
       "0  0.000070  \n",
       "1  0.000138  \n",
       "2  0.000681  \n",
       "3  0.001989  \n",
       "4  0.012720  \n",
       "5  0.061906  \n",
       "6  0.231973  "
      ]
     },
     "execution_count": 40,
     "metadata": {},
     "output_type": "execute_result"
    }
   ],
   "source": [
    "pd.DataFrame(fitted_probs(-0.89,0.0163,my_interval_matrix))"
   ]
  },
  {
   "cell_type": "code",
   "execution_count": 42,
   "metadata": {},
   "outputs": [
    {
     "data": {
      "text/html": [
       "<div>\n",
       "<style scoped>\n",
       "    .dataframe tbody tr th:only-of-type {\n",
       "        vertical-align: middle;\n",
       "    }\n",
       "\n",
       "    .dataframe tbody tr th {\n",
       "        vertical-align: top;\n",
       "    }\n",
       "\n",
       "    .dataframe thead th {\n",
       "        text-align: right;\n",
       "    }\n",
       "</style>\n",
       "<table border=\"1\" class=\"dataframe\">\n",
       "  <thead>\n",
       "    <tr style=\"text-align: right;\">\n",
       "      <th></th>\n",
       "      <th>0</th>\n",
       "      <th>1</th>\n",
       "      <th>2</th>\n",
       "      <th>3</th>\n",
       "      <th>4</th>\n",
       "      <th>5</th>\n",
       "      <th>6</th>\n",
       "      <th>7</th>\n",
       "    </tr>\n",
       "  </thead>\n",
       "  <tbody>\n",
       "    <tr>\n",
       "      <th>0</th>\n",
       "      <td>0.8935</td>\n",
       "      <td>0.0954</td>\n",
       "      <td>0.0089</td>\n",
       "      <td>0.0013</td>\n",
       "      <td>0.0007</td>\n",
       "      <td>0.0001</td>\n",
       "      <td>0.0001</td>\n",
       "      <td>0.0001</td>\n",
       "    </tr>\n",
       "    <tr>\n",
       "      <th>1</th>\n",
       "      <td>0.0048</td>\n",
       "      <td>0.8956</td>\n",
       "      <td>0.0893</td>\n",
       "      <td>0.0077</td>\n",
       "      <td>0.0013</td>\n",
       "      <td>0.0009</td>\n",
       "      <td>0.0003</td>\n",
       "      <td>0.0001</td>\n",
       "    </tr>\n",
       "    <tr>\n",
       "      <th>2</th>\n",
       "      <td>0.0006</td>\n",
       "      <td>0.0172</td>\n",
       "      <td>0.9088</td>\n",
       "      <td>0.0614</td>\n",
       "      <td>0.0078</td>\n",
       "      <td>0.0034</td>\n",
       "      <td>0.0001</td>\n",
       "      <td>0.0007</td>\n",
       "    </tr>\n",
       "    <tr>\n",
       "      <th>3</th>\n",
       "      <td>0.0001</td>\n",
       "      <td>0.0020</td>\n",
       "      <td>0.0439</td>\n",
       "      <td>0.8803</td>\n",
       "      <td>0.0572</td>\n",
       "      <td>0.0133</td>\n",
       "      <td>0.0013</td>\n",
       "      <td>0.0020</td>\n",
       "    </tr>\n",
       "    <tr>\n",
       "      <th>4</th>\n",
       "      <td>0.0000</td>\n",
       "      <td>0.0007</td>\n",
       "      <td>0.0038</td>\n",
       "      <td>0.0619</td>\n",
       "      <td>0.8163</td>\n",
       "      <td>0.0939</td>\n",
       "      <td>0.0106</td>\n",
       "      <td>0.0129</td>\n",
       "    </tr>\n",
       "    <tr>\n",
       "      <th>5</th>\n",
       "      <td>0.0000</td>\n",
       "      <td>0.0003</td>\n",
       "      <td>0.0017</td>\n",
       "      <td>0.0032</td>\n",
       "      <td>0.0556</td>\n",
       "      <td>0.8341</td>\n",
       "      <td>0.0438</td>\n",
       "      <td>0.0614</td>\n",
       "    </tr>\n",
       "    <tr>\n",
       "      <th>6</th>\n",
       "      <td>0.0000</td>\n",
       "      <td>0.0001</td>\n",
       "      <td>0.0006</td>\n",
       "      <td>0.0020</td>\n",
       "      <td>0.0194</td>\n",
       "      <td>0.1009</td>\n",
       "      <td>0.6453</td>\n",
       "      <td>0.2316</td>\n",
       "    </tr>\n",
       "  </tbody>\n",
       "</table>\n",
       "</div>"
      ],
      "text/plain": [
       "        0       1       2       3       4       5       6       7\n",
       "0  0.8935  0.0954  0.0089  0.0013  0.0007  0.0001  0.0001  0.0001\n",
       "1  0.0048  0.8956  0.0893  0.0077  0.0013  0.0009  0.0003  0.0001\n",
       "2  0.0006  0.0172  0.9088  0.0614  0.0078  0.0034  0.0001  0.0007\n",
       "3  0.0001  0.0020  0.0439  0.8803  0.0572  0.0133  0.0013  0.0020\n",
       "4  0.0000  0.0007  0.0038  0.0619  0.8163  0.0939  0.0106  0.0129\n",
       "5  0.0000  0.0003  0.0017  0.0032  0.0556  0.8341  0.0438  0.0614\n",
       "6  0.0000  0.0001  0.0006  0.0020  0.0194  0.1009  0.6453  0.2316"
      ]
     },
     "execution_count": 42,
     "metadata": {},
     "output_type": "execute_result"
    }
   ],
   "source": [
    "pd.DataFrame(F/100)"
   ]
  },
  {
   "cell_type": "code",
   "execution_count": 43,
   "metadata": {},
   "outputs": [],
   "source": [
    "rhos = [0.0163, 0.02, 0.03]\n",
    "\n",
    "def cost(z):\n",
    "    fit = fitted_probs(z,0.0163, interval_matrix)\n",
    "    return np.sum( ((P/100 - fit)**2) * n[:, np.newaxis] / ( fit * (1 - fit)))\n",
    "\n",
    "#cost = lambda z: (P - fitted_probs(z, 0.0163, interval_matrix))**2 "
   ]
  },
  {
   "cell_type": "code",
   "execution_count": 124,
   "metadata": {},
   "outputs": [
    {
     "data": {
      "text/plain": [
       "0.015585267439948799"
      ]
     },
     "execution_count": 124,
     "metadata": {},
     "output_type": "execute_result"
    }
   ],
   "source": [
    "\n",
    "np.sum((P/100 - fitted_probs(-0.0,0.0163, interval_matrix))**2 * n[:, np.newaxis])"
   ]
  },
  {
   "cell_type": "markdown",
   "metadata": {},
   "source": [
    "Below I use all the data from the paper to do the predictions with my function.  \n",
    "\n",
    "These outputs correspond to the Fitted Transition Matrix in Table 2 on page 50"
   ]
  },
  {
   "cell_type": "markdown",
   "metadata": {},
   "source": [
    "<img src=\"capture.png\">"
   ]
  },
  {
   "cell_type": "code",
   "execution_count": 48,
   "metadata": {},
   "outputs": [
    {
     "name": "stdout",
     "output_type": "stream",
     "text": [
      "[[ 89.4   9.5   0.9   0.1   0.1   0.    0.    0. ]\n",
      " [  0.5  89.6   8.9   0.8   0.1   0.1   0.    0. ]\n",
      " [  0.1   1.7  90.8   6.2   0.8   0.3   0.    0.1]\n",
      " [  0.    0.2   4.4  88.    5.7   1.3   0.1   0.2]\n",
      " [  0.    0.1   0.4   6.2  81.6   9.5   1.    1.3]\n",
      " [  0.    0.    0.2   0.3   5.6  83.5   4.3   6.2]\n",
      " [  0.    0.    0.1   0.2   1.9  10.   64.6  23.2]]\n"
     ]
    }
   ],
   "source": [
    "predicted = fitted_probs(-0.89, 0.0163, interval_matrix)\n",
    "print(np.round(predicted,3)*100)"
   ]
  },
  {
   "cell_type": "markdown",
   "metadata": {},
   "source": [
    "Below I use my derived interval matrix (filling in the bad value with -3.89)"
   ]
  },
  {
   "cell_type": "code",
   "execution_count": 49,
   "metadata": {},
   "outputs": [
    {
     "name": "stdout",
     "output_type": "stream",
     "text": [
      "[[ 89.4   9.5   0.9   0.1   0.1   0.    0.    0. ]\n",
      " [  0.5  89.6   8.9   0.8   0.1   0.1   0.    0. ]\n",
      " [  0.1   1.7  90.8   6.2   0.8   0.3   0.    0.1]\n",
      " [  0.    0.2   4.4  88.    5.7   1.3   0.1   0.2]\n",
      " [  0.    0.1   0.4   6.2  81.6   9.5   1.    1.3]\n",
      " [  0.    0.    0.2   0.3   5.6  83.5   4.3   6.2]\n",
      " [  0.    0.    0.1   0.2   1.9  10.   64.6  23.2]]\n"
     ]
    }
   ],
   "source": [
    "my_predicted = fitted_probs(-0.89, 0.0163, my_interval_matrix)\n",
    "print(np.round(my_predicted,3)*100)"
   ]
  },
  {
   "cell_type": "markdown",
   "metadata": {},
   "source": [
    "It is pretty close in my opinion."
   ]
  },
  {
   "cell_type": "markdown",
   "metadata": {},
   "source": [
    "## Determinining Transition Matrices as Functions of Z-score"
   ]
  },
  {
   "cell_type": "markdown",
   "metadata": {},
   "source": [
    "Page 54 of the JP Morgan Paper"
   ]
  },
  {
   "cell_type": "code",
   "execution_count": 50,
   "metadata": {},
   "outputs": [
    {
     "name": "stdout",
     "output_type": "stream",
     "text": [
      "all calcs based on bins taken directly from paper\n",
      "good year\n",
      " [[ 93.2   6.2   0.5   0.1   0.    0.    0.    0. ]\n",
      " [  0.9  92.8   5.8   0.4   0.1   0.    0.    0. ]\n",
      " [  0.1   3.   92.3   3.9   0.4   0.2   0.    0. ]\n",
      " [  0.    0.4   7.   88.    3.7   0.7   0.1   0.1]\n",
      " [  0.    0.2   0.7   9.5  82.    6.4   0.6   0.7]\n",
      " [  0.    0.1   0.3   0.6   8.6  83.7   2.9   3.7]\n",
      " [  0.    0.    0.1   0.4   3.3  14.   65.7  16.5]] \n",
      "\n",
      "average year\n",
      " [[ 91.3   7.9   0.7   0.1   0.    0.    0.    0. ]\n",
      " [  0.7  91.3   7.3   0.6   0.1   0.1   0.    0. ]\n",
      " [  0.1   2.3  91.7   5.    0.6   0.2   0.    0. ]\n",
      " [  0.    0.3   5.5  88.3   4.7   1.    0.1   0.1]\n",
      " [  0.    0.1   0.5   7.6  82.1   7.9   0.8   0.9]\n",
      " [  0.    0.    0.2   0.4   6.9  83.9   3.6   4.9]\n",
      " [  0.    0.    0.1   0.3   2.5  11.8  65.4  19.9]] \n",
      "\n",
      "bad year\n",
      " [[ 89.1   9.7   0.9   0.1   0.1   0.    0.    0. ]\n",
      " [  0.5  89.4   9.1   0.8   0.1   0.1   0.    0. ]\n",
      " [  0.1   1.7  90.7   6.3   0.8   0.3   0.    0.1]\n",
      " [  0.    0.2   4.2  88.    5.9   1.4   0.1   0.2]\n",
      " [  0.    0.1   0.4   6.   81.5   9.7   1.1   1.3]\n",
      " [  0.    0.    0.2   0.3   5.4  83.4   4.3   6.4]\n",
      " [  0.    0.    0.1   0.2   1.9   9.8  64.4  23.6]] \n",
      "\n"
     ]
    }
   ],
   "source": [
    "print(\"all calcs based on bins taken directly from paper\")\n",
    "good_year = fitted_probs(1, 0.0163, interval_matrix)\n",
    "average_year = fitted_probs(0, 0.0163, interval_matrix)\n",
    "bad_year = fitted_probs(-1, 0.0163, interval_matrix)\n",
    "print(\"good year\\n\", np.round(good_year,3)*100, \"\\n\")\n",
    "print(\"average year\\n\",np.round(average_year,3)*100,\"\\n\")\n",
    "print(\"bad year\\n\", np.round(bad_year,3)*100, \"\\n\")"
   ]
  },
  {
   "cell_type": "code",
   "execution_count": 51,
   "metadata": {},
   "outputs": [
    {
     "name": "stdout",
     "output_type": "stream",
     "text": [
      "all my calcs\n",
      "good year\n",
      " [[ 93.2   6.2   0.5   0.1   0.    0.    0.    0. ]\n",
      " [  0.9  92.8   5.8   0.4   0.1   0.    0.    0. ]\n",
      " [  0.1   3.   92.3   3.9   0.4   0.2   0.    0. ]\n",
      " [  0.    0.4   7.   88.    3.7   0.7   0.1   0.1]\n",
      " [  0.    0.2   0.7   9.5  82.    6.4   0.6   0.7]\n",
      " [  0.    0.1   0.3   0.6   8.6  83.7   2.9   3.7]\n",
      " [  0.    0.    0.1   0.4   3.3  14.   65.7  16.5]] \n",
      "\n",
      "average year\n",
      " [[ 91.3   7.9   0.7   0.1   0.    0.    0.    0. ]\n",
      " [  0.7  91.3   7.3   0.6   0.1   0.1   0.    0. ]\n",
      " [  0.1   2.3  91.7   5.    0.6   0.2   0.    0. ]\n",
      " [  0.    0.3   5.5  88.3   4.7   1.    0.1   0.1]\n",
      " [  0.    0.1   0.5   7.6  82.1   7.9   0.8   0.9]\n",
      " [  0.    0.    0.2   0.4   6.9  83.9   3.6   4.9]\n",
      " [  0.    0.    0.1   0.3   2.5  11.8  65.4  19.9]] \n",
      "\n",
      "bad year\n",
      " [[ 89.1   9.7   0.9   0.1   0.1   0.    0.    0. ]\n",
      " [  0.5  89.4   9.1   0.8   0.1   0.1   0.    0. ]\n",
      " [  0.1   1.7  90.7   6.3   0.8   0.3   0.    0.1]\n",
      " [  0.    0.2   4.2  88.    5.9   1.4   0.1   0.2]\n",
      " [  0.    0.1   0.4   6.   81.5   9.7   1.1   1.3]\n",
      " [  0.    0.    0.2   0.3   5.4  83.4   4.3   6.4]\n",
      " [  0.    0.    0.1   0.2   1.9   9.8  64.4  23.6]] \n",
      "\n"
     ]
    }
   ],
   "source": [
    "print(\"all my calcs\")\n",
    "good_year = fitted_probs(1, 0.0163, my_interval_matrix)\n",
    "average_year = fitted_probs(0, 0.0163, my_interval_matrix)\n",
    "bad_year = fitted_probs(-1, 0.0163, my_interval_matrix)\n",
    "print(\"good year\\n\", np.round(good_year,3)*100, \"\\n\")\n",
    "print(\"average year\\n\",np.round(average_year,3)*100,\"\\n\")\n",
    "print(\"bad year\\n\", np.round(bad_year,3)*100, \"\\n\")"
   ]
  },
  {
   "cell_type": "code",
   "execution_count": null,
   "metadata": {},
   "outputs": [],
   "source": []
  },
  {
   "cell_type": "code",
   "execution_count": null,
   "metadata": {},
   "outputs": [],
   "source": []
  },
  {
   "cell_type": "code",
   "execution_count": null,
   "metadata": {},
   "outputs": [],
   "source": []
  }
 ],
 "metadata": {
  "hide_input": false,
  "kernelspec": {
   "display_name": "Python [conda env:fnb]",
   "language": "python",
   "name": "conda-env-fnb-py"
  },
  "language_info": {
   "codemirror_mode": {
    "name": "ipython",
    "version": 3
   },
   "file_extension": ".py",
   "mimetype": "text/x-python",
   "name": "python",
   "nbconvert_exporter": "python",
   "pygments_lexer": "ipython3",
   "version": "3.5.4"
  },
  "varInspector": {
   "cols": {
    "lenName": 16,
    "lenType": 16,
    "lenVar": 40
   },
   "kernels_config": {
    "python": {
     "delete_cmd_postfix": "",
     "delete_cmd_prefix": "del ",
     "library": "var_list.py",
     "varRefreshCmd": "print(var_dic_list())"
    },
    "r": {
     "delete_cmd_postfix": ") ",
     "delete_cmd_prefix": "rm(",
     "library": "var_list.r",
     "varRefreshCmd": "cat(var_dic_list()) "
    }
   },
   "types_to_exclude": [
    "module",
    "function",
    "builtin_function_or_method",
    "instance",
    "_Feature"
   ],
   "window_display": false
  }
 },
 "nbformat": 4,
 "nbformat_minor": 2
}
